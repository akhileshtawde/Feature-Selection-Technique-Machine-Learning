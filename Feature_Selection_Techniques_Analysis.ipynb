{
 "cells": [
  {
   "cell_type": "markdown",
   "metadata": {
    "colab_type": "text",
    "id": "KWcebH8m7Ii9"
   },
   "source": [
    "# Analysis of Feature Selection Techniques"
   ]
  },
  {
   "cell_type": "markdown",
   "metadata": {
    "colab_type": "text",
    "id": "JMKcIRqRCks_"
   },
   "source": [
    "## Data Preparation"
   ]
  },
  {
   "cell_type": "code",
   "execution_count": null,
   "metadata": {
    "colab": {
     "base_uri": "https://localhost:8080/",
     "height": 121
    },
    "colab_type": "code",
    "id": "t5QX9WgIriqs",
    "outputId": "0ad4c921-fb96-4bd9-e0fb-a8a8e5ebf5d3"
   },
   "outputs": [
    {
     "name": "stdout",
     "output_type": "stream",
     "text": [
      "Go to this URL in a browser: https://accounts.google.com/o/oauth2/auth?client_id=947318989803-6bn6qk8qdgf4n4g3pfee6491hc0brc4i.apps.googleusercontent.com&redirect_uri=urn%3aietf%3awg%3aoauth%3a2.0%3aoob&response_type=code&scope=email%20https%3a%2f%2fwww.googleapis.com%2fauth%2fdocs.test%20https%3a%2f%2fwww.googleapis.com%2fauth%2fdrive%20https%3a%2f%2fwww.googleapis.com%2fauth%2fdrive.photos.readonly%20https%3a%2f%2fwww.googleapis.com%2fauth%2fpeopleapi.readonly\n",
      "\n",
      "Enter your authorization code:\n",
      "··········\n",
      "Mounted at /content/drive\n"
     ]
    }
   ],
   "source": [
    "from google.colab import drive\n",
    "drive.mount('/content/drive')"
   ]
  },
  {
   "cell_type": "code",
   "execution_count": null,
   "metadata": {
    "colab": {},
    "colab_type": "code",
    "id": "zN3pr8cDsYrV"
   },
   "outputs": [],
   "source": [
    "import pandas as pd     # for data processing\n",
    "import numpy as np      # for sklearn\n",
    "import matplotlib.pyplot as plt # for plotting the coefficients\n",
    "from sklearn.tree import DecisionTreeClassifier # for classification\n",
    "from sklearn.metrics import mean_squared_error, jaccard_similarity_score, accuracy_score, f1_score # for measuring accuracy\n",
    "from sklearn.model_selection import train_test_split # for splitting the data\n",
    "import warnings\n",
    "warnings.simplefilter('ignore')"
   ]
  },
  {
   "cell_type": "code",
   "execution_count": null,
   "metadata": {
    "colab": {},
    "colab_type": "code",
    "id": "GGAkIc3MrjFC"
   },
   "outputs": [],
   "source": [
    "test_df = pd.read_csv(\"../../content/drive/My Drive/test.csv\")\n",
    "train_df = pd.read_csv(\"../../content/drive/My Drive/train.csv\")"
   ]
  },
  {
   "cell_type": "code",
   "execution_count": null,
   "metadata": {
    "colab": {
     "base_uri": "https://localhost:8080/",
     "height": 195
    },
    "colab_type": "code",
    "id": "gEii0yuss1_A",
    "outputId": "8216a589-a5d9-4ffd-f882-680470ec2938"
   },
   "outputs": [
    {
     "data": {
      "text/html": [
       "<div>\n",
       "<style scoped>\n",
       "    .dataframe tbody tr th:only-of-type {\n",
       "        vertical-align: middle;\n",
       "    }\n",
       "\n",
       "    .dataframe tbody tr th {\n",
       "        vertical-align: top;\n",
       "    }\n",
       "\n",
       "    .dataframe thead th {\n",
       "        text-align: right;\n",
       "    }\n",
       "</style>\n",
       "<table border=\"1\" class=\"dataframe\">\n",
       "  <thead>\n",
       "    <tr style=\"text-align: right;\">\n",
       "      <th></th>\n",
       "      <th>PassengerId</th>\n",
       "      <th>Survived</th>\n",
       "      <th>Pclass</th>\n",
       "      <th>Name</th>\n",
       "      <th>Sex</th>\n",
       "      <th>Age</th>\n",
       "      <th>SibSp</th>\n",
       "      <th>Parch</th>\n",
       "      <th>Ticket</th>\n",
       "      <th>Fare</th>\n",
       "      <th>Cabin</th>\n",
       "      <th>Embarked</th>\n",
       "    </tr>\n",
       "  </thead>\n",
       "  <tbody>\n",
       "    <tr>\n",
       "      <th>0</th>\n",
       "      <td>1</td>\n",
       "      <td>0</td>\n",
       "      <td>3</td>\n",
       "      <td>Braund, Mr. Owen Harris</td>\n",
       "      <td>male</td>\n",
       "      <td>22.0</td>\n",
       "      <td>1</td>\n",
       "      <td>0</td>\n",
       "      <td>A/5 21171</td>\n",
       "      <td>7.2500</td>\n",
       "      <td>NaN</td>\n",
       "      <td>S</td>\n",
       "    </tr>\n",
       "    <tr>\n",
       "      <th>1</th>\n",
       "      <td>2</td>\n",
       "      <td>1</td>\n",
       "      <td>1</td>\n",
       "      <td>Cumings, Mrs. John Bradley (Florence Briggs Th...</td>\n",
       "      <td>female</td>\n",
       "      <td>38.0</td>\n",
       "      <td>1</td>\n",
       "      <td>0</td>\n",
       "      <td>PC 17599</td>\n",
       "      <td>71.2833</td>\n",
       "      <td>C85</td>\n",
       "      <td>C</td>\n",
       "    </tr>\n",
       "    <tr>\n",
       "      <th>2</th>\n",
       "      <td>3</td>\n",
       "      <td>1</td>\n",
       "      <td>3</td>\n",
       "      <td>Heikkinen, Miss. Laina</td>\n",
       "      <td>female</td>\n",
       "      <td>26.0</td>\n",
       "      <td>0</td>\n",
       "      <td>0</td>\n",
       "      <td>STON/O2. 3101282</td>\n",
       "      <td>7.9250</td>\n",
       "      <td>NaN</td>\n",
       "      <td>S</td>\n",
       "    </tr>\n",
       "    <tr>\n",
       "      <th>3</th>\n",
       "      <td>4</td>\n",
       "      <td>1</td>\n",
       "      <td>1</td>\n",
       "      <td>Futrelle, Mrs. Jacques Heath (Lily May Peel)</td>\n",
       "      <td>female</td>\n",
       "      <td>35.0</td>\n",
       "      <td>1</td>\n",
       "      <td>0</td>\n",
       "      <td>113803</td>\n",
       "      <td>53.1000</td>\n",
       "      <td>C123</td>\n",
       "      <td>S</td>\n",
       "    </tr>\n",
       "    <tr>\n",
       "      <th>4</th>\n",
       "      <td>5</td>\n",
       "      <td>0</td>\n",
       "      <td>3</td>\n",
       "      <td>Allen, Mr. William Henry</td>\n",
       "      <td>male</td>\n",
       "      <td>35.0</td>\n",
       "      <td>0</td>\n",
       "      <td>0</td>\n",
       "      <td>373450</td>\n",
       "      <td>8.0500</td>\n",
       "      <td>NaN</td>\n",
       "      <td>S</td>\n",
       "    </tr>\n",
       "  </tbody>\n",
       "</table>\n",
       "</div>"
      ],
      "text/plain": [
       "   PassengerId  Survived  Pclass  ...     Fare Cabin  Embarked\n",
       "0            1         0       3  ...   7.2500   NaN         S\n",
       "1            2         1       1  ...  71.2833   C85         C\n",
       "2            3         1       3  ...   7.9250   NaN         S\n",
       "3            4         1       1  ...  53.1000  C123         S\n",
       "4            5         0       3  ...   8.0500   NaN         S\n",
       "\n",
       "[5 rows x 12 columns]"
      ]
     },
     "execution_count": 4,
     "metadata": {
      "tags": []
     },
     "output_type": "execute_result"
    }
   ],
   "source": [
    "train_df.head()"
   ]
  },
  {
   "cell_type": "code",
   "execution_count": null,
   "metadata": {
    "colab": {
     "base_uri": "https://localhost:8080/",
     "height": 302
    },
    "colab_type": "code",
    "id": "XOm9a3netrJH",
    "outputId": "1764cc2e-b4be-4a9d-bf27-e589f2f3824c"
   },
   "outputs": [
    {
     "name": "stdout",
     "output_type": "stream",
     "text": [
      "<class 'pandas.core.frame.DataFrame'>\n",
      "RangeIndex: 891 entries, 0 to 890\n",
      "Data columns (total 12 columns):\n",
      "PassengerId    891 non-null int64\n",
      "Survived       891 non-null int64\n",
      "Pclass         891 non-null int64\n",
      "Name           891 non-null object\n",
      "Sex            891 non-null object\n",
      "Age            714 non-null float64\n",
      "SibSp          891 non-null int64\n",
      "Parch          891 non-null int64\n",
      "Ticket         891 non-null object\n",
      "Fare           891 non-null float64\n",
      "Cabin          204 non-null object\n",
      "Embarked       889 non-null object\n",
      "dtypes: float64(2), int64(5), object(5)\n",
      "memory usage: 83.7+ KB\n"
     ]
    }
   ],
   "source": [
    "train_df.info()"
   ]
  },
  {
   "cell_type": "code",
   "execution_count": null,
   "metadata": {
    "colab": {
     "base_uri": "https://localhost:8080/",
     "height": 284
    },
    "colab_type": "code",
    "id": "I9yFAoU0tzty",
    "outputId": "9ddae00b-2288-48a4-eafe-df3610a7d7da"
   },
   "outputs": [
    {
     "data": {
      "text/html": [
       "<div>\n",
       "<style scoped>\n",
       "    .dataframe tbody tr th:only-of-type {\n",
       "        vertical-align: middle;\n",
       "    }\n",
       "\n",
       "    .dataframe tbody tr th {\n",
       "        vertical-align: top;\n",
       "    }\n",
       "\n",
       "    .dataframe thead th {\n",
       "        text-align: right;\n",
       "    }\n",
       "</style>\n",
       "<table border=\"1\" class=\"dataframe\">\n",
       "  <thead>\n",
       "    <tr style=\"text-align: right;\">\n",
       "      <th></th>\n",
       "      <th>PassengerId</th>\n",
       "      <th>Survived</th>\n",
       "      <th>Pclass</th>\n",
       "      <th>Age</th>\n",
       "      <th>SibSp</th>\n",
       "      <th>Parch</th>\n",
       "      <th>Fare</th>\n",
       "    </tr>\n",
       "  </thead>\n",
       "  <tbody>\n",
       "    <tr>\n",
       "      <th>count</th>\n",
       "      <td>891.000000</td>\n",
       "      <td>891.000000</td>\n",
       "      <td>891.000000</td>\n",
       "      <td>714.000000</td>\n",
       "      <td>891.000000</td>\n",
       "      <td>891.000000</td>\n",
       "      <td>891.000000</td>\n",
       "    </tr>\n",
       "    <tr>\n",
       "      <th>mean</th>\n",
       "      <td>446.000000</td>\n",
       "      <td>0.383838</td>\n",
       "      <td>2.308642</td>\n",
       "      <td>29.699118</td>\n",
       "      <td>0.523008</td>\n",
       "      <td>0.381594</td>\n",
       "      <td>32.204208</td>\n",
       "    </tr>\n",
       "    <tr>\n",
       "      <th>std</th>\n",
       "      <td>257.353842</td>\n",
       "      <td>0.486592</td>\n",
       "      <td>0.836071</td>\n",
       "      <td>14.526497</td>\n",
       "      <td>1.102743</td>\n",
       "      <td>0.806057</td>\n",
       "      <td>49.693429</td>\n",
       "    </tr>\n",
       "    <tr>\n",
       "      <th>min</th>\n",
       "      <td>1.000000</td>\n",
       "      <td>0.000000</td>\n",
       "      <td>1.000000</td>\n",
       "      <td>0.420000</td>\n",
       "      <td>0.000000</td>\n",
       "      <td>0.000000</td>\n",
       "      <td>0.000000</td>\n",
       "    </tr>\n",
       "    <tr>\n",
       "      <th>25%</th>\n",
       "      <td>223.500000</td>\n",
       "      <td>0.000000</td>\n",
       "      <td>2.000000</td>\n",
       "      <td>20.125000</td>\n",
       "      <td>0.000000</td>\n",
       "      <td>0.000000</td>\n",
       "      <td>7.910400</td>\n",
       "    </tr>\n",
       "    <tr>\n",
       "      <th>50%</th>\n",
       "      <td>446.000000</td>\n",
       "      <td>0.000000</td>\n",
       "      <td>3.000000</td>\n",
       "      <td>28.000000</td>\n",
       "      <td>0.000000</td>\n",
       "      <td>0.000000</td>\n",
       "      <td>14.454200</td>\n",
       "    </tr>\n",
       "    <tr>\n",
       "      <th>75%</th>\n",
       "      <td>668.500000</td>\n",
       "      <td>1.000000</td>\n",
       "      <td>3.000000</td>\n",
       "      <td>38.000000</td>\n",
       "      <td>1.000000</td>\n",
       "      <td>0.000000</td>\n",
       "      <td>31.000000</td>\n",
       "    </tr>\n",
       "    <tr>\n",
       "      <th>max</th>\n",
       "      <td>891.000000</td>\n",
       "      <td>1.000000</td>\n",
       "      <td>3.000000</td>\n",
       "      <td>80.000000</td>\n",
       "      <td>8.000000</td>\n",
       "      <td>6.000000</td>\n",
       "      <td>512.329200</td>\n",
       "    </tr>\n",
       "  </tbody>\n",
       "</table>\n",
       "</div>"
      ],
      "text/plain": [
       "       PassengerId    Survived      Pclass  ...       SibSp       Parch        Fare\n",
       "count   891.000000  891.000000  891.000000  ...  891.000000  891.000000  891.000000\n",
       "mean    446.000000    0.383838    2.308642  ...    0.523008    0.381594   32.204208\n",
       "std     257.353842    0.486592    0.836071  ...    1.102743    0.806057   49.693429\n",
       "min       1.000000    0.000000    1.000000  ...    0.000000    0.000000    0.000000\n",
       "25%     223.500000    0.000000    2.000000  ...    0.000000    0.000000    7.910400\n",
       "50%     446.000000    0.000000    3.000000  ...    0.000000    0.000000   14.454200\n",
       "75%     668.500000    1.000000    3.000000  ...    1.000000    0.000000   31.000000\n",
       "max     891.000000    1.000000    3.000000  ...    8.000000    6.000000  512.329200\n",
       "\n",
       "[8 rows x 7 columns]"
      ]
     },
     "execution_count": 6,
     "metadata": {
      "tags": []
     },
     "output_type": "execute_result"
    }
   ],
   "source": [
    "train_df.describe()"
   ]
  },
  {
   "cell_type": "code",
   "execution_count": null,
   "metadata": {
    "colab": {},
    "colab_type": "code",
    "id": "__sk3aBUt5F4"
   },
   "outputs": [],
   "source": [
    "import re\n",
    "deck = {\"A\": 1, \"B\": 2, \"C\": 3, \"D\": 4, \"E\": 5, \"F\": 6, \"G\": 7, \"U\": 8}\n",
    "data = [train_df, test_df]\n",
    "\n",
    "for dataset in data:\n",
    "    dataset['Cabin'] = dataset['Cabin'].fillna(\"U0\")\n",
    "    dataset['Deck'] = dataset['Cabin'].map(lambda x: re.compile(\"([a-zA-Z]+)\").search(x).group())\n",
    "    dataset['Deck'] = dataset['Deck'].map(deck)\n",
    "    dataset['Deck'] = dataset['Deck'].fillna(0)\n",
    "    dataset['Deck'] = dataset['Deck'].astype(int)\n",
    "# we can now drop the cabin feature\n",
    "train_df = train_df.drop(['Cabin'], axis=1)\n",
    "test_df = test_df.drop(['Cabin'], axis=1)"
   ]
  },
  {
   "cell_type": "code",
   "execution_count": null,
   "metadata": {
    "colab": {
     "base_uri": "https://localhost:8080/",
     "height": 34
    },
    "colab_type": "code",
    "id": "2iuuUeaozks8",
    "outputId": "a3300771-a390-4251-e986-559fa3887a13"
   },
   "outputs": [
    {
     "data": {
      "text/plain": [
       "0"
      ]
     },
     "execution_count": 8,
     "metadata": {
      "tags": []
     },
     "output_type": "execute_result"
    }
   ],
   "source": [
    "data = [train_df, test_df]\n",
    "\n",
    "for dataset in data:\n",
    "    mean = train_df[\"Age\"].mean()\n",
    "    std = test_df[\"Age\"].std()\n",
    "    is_null = dataset[\"Age\"].isnull().sum()\n",
    "    # compute random numbers between the mean, std and is_null\n",
    "    rand_age = np.random.randint(mean - std, mean + std, size = is_null)\n",
    "    # fill NaN values in Age column with random values generated\n",
    "    age_slice = dataset[\"Age\"].copy()\n",
    "    age_slice[np.isnan(age_slice)] = rand_age\n",
    "    dataset[\"Age\"] = age_slice\n",
    "    dataset[\"Age\"] = train_df[\"Age\"].astype(int)\n",
    "train_df[\"Age\"].isnull().sum()"
   ]
  },
  {
   "cell_type": "code",
   "execution_count": null,
   "metadata": {
    "colab": {
     "base_uri": "https://localhost:8080/",
     "height": 101
    },
    "colab_type": "code",
    "id": "vDmoxLbmzqAI",
    "outputId": "ade0c890-9960-45e3-bbba-b3f902c3dfb1"
   },
   "outputs": [
    {
     "data": {
      "text/plain": [
       "count     889\n",
       "unique      3\n",
       "top         S\n",
       "freq      644\n",
       "Name: Embarked, dtype: object"
      ]
     },
     "execution_count": 9,
     "metadata": {
      "tags": []
     },
     "output_type": "execute_result"
    }
   ],
   "source": [
    "train_df['Embarked'].describe()"
   ]
  },
  {
   "cell_type": "code",
   "execution_count": null,
   "metadata": {
    "colab": {},
    "colab_type": "code",
    "id": "MucyAPSHz1gA"
   },
   "outputs": [],
   "source": [
    "common_value = 'S'\n",
    "data = [train_df, test_df]\n",
    "\n",
    "for dataset in data:\n",
    "    dataset['Embarked'] = dataset['Embarked'].fillna(common_value)"
   ]
  },
  {
   "cell_type": "code",
   "execution_count": null,
   "metadata": {
    "colab": {
     "base_uri": "https://localhost:8080/",
     "height": 302
    },
    "colab_type": "code",
    "id": "1P44c5Enz7Xw",
    "outputId": "c653a85b-9900-4e74-cb8c-71d8c6181f6f"
   },
   "outputs": [
    {
     "name": "stdout",
     "output_type": "stream",
     "text": [
      "<class 'pandas.core.frame.DataFrame'>\n",
      "RangeIndex: 891 entries, 0 to 890\n",
      "Data columns (total 12 columns):\n",
      "PassengerId    891 non-null int64\n",
      "Survived       891 non-null int64\n",
      "Pclass         891 non-null int64\n",
      "Name           891 non-null object\n",
      "Sex            891 non-null object\n",
      "Age            891 non-null int64\n",
      "SibSp          891 non-null int64\n",
      "Parch          891 non-null int64\n",
      "Ticket         891 non-null object\n",
      "Fare           891 non-null float64\n",
      "Embarked       891 non-null object\n",
      "Deck           891 non-null int64\n",
      "dtypes: float64(1), int64(7), object(4)\n",
      "memory usage: 83.7+ KB\n"
     ]
    }
   ],
   "source": [
    "train_df.info()"
   ]
  },
  {
   "cell_type": "code",
   "execution_count": null,
   "metadata": {
    "colab": {},
    "colab_type": "code",
    "id": "9KznItgDz-Df"
   },
   "outputs": [],
   "source": [
    "\n",
    "for dataset in data:\n",
    "    dataset['Fare'] = dataset['Fare'].fillna(0)\n",
    "    dataset['Fare'] = dataset['Fare'].astype(int)"
   ]
  },
  {
   "cell_type": "code",
   "execution_count": null,
   "metadata": {
    "colab": {},
    "colab_type": "code",
    "id": "blUq5zkO0JrA"
   },
   "outputs": [],
   "source": [
    "titles = {\"Mr\": 1, \"Miss\": 2, \"Mrs\": 3, \"Master\": 4, \"Rare\": 5}\n",
    "\n",
    "for dataset in data:\n",
    "    # extract titles\n",
    "    dataset['Title'] = dataset.Name.str.extract(' ([A-Za-z]+)\\.', expand=False)\n",
    "    # replace titles with a more common title or as Rare\n",
    "    dataset['Title'] = dataset['Title'].replace(['Lady', 'Countess','Capt', 'Col','Don', 'Dr',\\\n",
    "                                            'Major', 'Rev', 'Sir', 'Jonkheer', 'Dona'], 'Rare')\n",
    "    dataset['Title'] = dataset['Title'].replace('Mlle', 'Miss')\n",
    "    dataset['Title'] = dataset['Title'].replace('Ms', 'Miss')\n",
    "    dataset['Title'] = dataset['Title'].replace('Mme', 'Mrs')\n",
    "    # convert titles into numbers\n",
    "    dataset['Title'] = dataset['Title'].map(titles)\n",
    "    # filling NaN with 0, to get safe\n",
    "    dataset['Title'] = dataset['Title'].fillna(0)\n",
    "train_df = train_df.drop(['Name'], axis=1)\n",
    "test_df = test_df.drop(['Name'], axis=1)"
   ]
  },
  {
   "cell_type": "code",
   "execution_count": null,
   "metadata": {
    "colab": {},
    "colab_type": "code",
    "id": "W-q-J3K_0NBw"
   },
   "outputs": [],
   "source": [
    "genders = {\"male\": 0, \"female\": 1}\n",
    "data = [train_df, test_df]\n",
    "\n",
    "for dataset in data:\n",
    "    dataset['Sex'] = dataset['Sex'].map(genders)"
   ]
  },
  {
   "cell_type": "code",
   "execution_count": null,
   "metadata": {
    "colab": {
     "base_uri": "https://localhost:8080/",
     "height": 101
    },
    "colab_type": "code",
    "id": "9YAUHrO80Q_O",
    "outputId": "8527618c-db67-4e4b-ecd1-d4ee1e2a4ed1"
   },
   "outputs": [
    {
     "data": {
      "text/plain": [
       "count        891\n",
       "unique       681\n",
       "top       347082\n",
       "freq           7\n",
       "Name: Ticket, dtype: object"
      ]
     },
     "execution_count": 15,
     "metadata": {
      "tags": []
     },
     "output_type": "execute_result"
    }
   ],
   "source": [
    "train_df['Ticket'].describe()"
   ]
  },
  {
   "cell_type": "code",
   "execution_count": null,
   "metadata": {
    "colab": {},
    "colab_type": "code",
    "id": "WiK2B50_0Tcw"
   },
   "outputs": [],
   "source": [
    "train_df = train_df.drop(['Ticket'], axis=1)\n",
    "test_df = test_df.drop(['Ticket'], axis=1)"
   ]
  },
  {
   "cell_type": "code",
   "execution_count": null,
   "metadata": {
    "colab": {},
    "colab_type": "code",
    "id": "WrJHm0oi0dkn"
   },
   "outputs": [],
   "source": [
    "ports = {\"S\": 0, \"C\": 1, \"Q\": 2}\n",
    "data = [train_df, test_df]\n",
    "\n",
    "for dataset in data:\n",
    "    dataset['Embarked'] = dataset['Embarked'].map(ports)"
   ]
  },
  {
   "cell_type": "code",
   "execution_count": null,
   "metadata": {
    "colab": {
     "base_uri": "https://localhost:8080/",
     "height": 195
    },
    "colab_type": "code",
    "id": "LYMvjAcB0hMZ",
    "outputId": "a75c6792-2b9a-4ca0-f92a-faaa77d4f52f"
   },
   "outputs": [
    {
     "data": {
      "text/html": [
       "<div>\n",
       "<style scoped>\n",
       "    .dataframe tbody tr th:only-of-type {\n",
       "        vertical-align: middle;\n",
       "    }\n",
       "\n",
       "    .dataframe tbody tr th {\n",
       "        vertical-align: top;\n",
       "    }\n",
       "\n",
       "    .dataframe thead th {\n",
       "        text-align: right;\n",
       "    }\n",
       "</style>\n",
       "<table border=\"1\" class=\"dataframe\">\n",
       "  <thead>\n",
       "    <tr style=\"text-align: right;\">\n",
       "      <th></th>\n",
       "      <th>PassengerId</th>\n",
       "      <th>Survived</th>\n",
       "      <th>Pclass</th>\n",
       "      <th>Sex</th>\n",
       "      <th>Age</th>\n",
       "      <th>SibSp</th>\n",
       "      <th>Parch</th>\n",
       "      <th>Fare</th>\n",
       "      <th>Embarked</th>\n",
       "      <th>Deck</th>\n",
       "      <th>Title</th>\n",
       "    </tr>\n",
       "  </thead>\n",
       "  <tbody>\n",
       "    <tr>\n",
       "      <th>0</th>\n",
       "      <td>1</td>\n",
       "      <td>0</td>\n",
       "      <td>3</td>\n",
       "      <td>0</td>\n",
       "      <td>22</td>\n",
       "      <td>1</td>\n",
       "      <td>0</td>\n",
       "      <td>7</td>\n",
       "      <td>0</td>\n",
       "      <td>8</td>\n",
       "      <td>1</td>\n",
       "    </tr>\n",
       "    <tr>\n",
       "      <th>1</th>\n",
       "      <td>2</td>\n",
       "      <td>1</td>\n",
       "      <td>1</td>\n",
       "      <td>1</td>\n",
       "      <td>38</td>\n",
       "      <td>1</td>\n",
       "      <td>0</td>\n",
       "      <td>71</td>\n",
       "      <td>1</td>\n",
       "      <td>3</td>\n",
       "      <td>3</td>\n",
       "    </tr>\n",
       "    <tr>\n",
       "      <th>2</th>\n",
       "      <td>3</td>\n",
       "      <td>1</td>\n",
       "      <td>3</td>\n",
       "      <td>1</td>\n",
       "      <td>26</td>\n",
       "      <td>0</td>\n",
       "      <td>0</td>\n",
       "      <td>7</td>\n",
       "      <td>0</td>\n",
       "      <td>8</td>\n",
       "      <td>2</td>\n",
       "    </tr>\n",
       "    <tr>\n",
       "      <th>3</th>\n",
       "      <td>4</td>\n",
       "      <td>1</td>\n",
       "      <td>1</td>\n",
       "      <td>1</td>\n",
       "      <td>35</td>\n",
       "      <td>1</td>\n",
       "      <td>0</td>\n",
       "      <td>53</td>\n",
       "      <td>0</td>\n",
       "      <td>3</td>\n",
       "      <td>3</td>\n",
       "    </tr>\n",
       "    <tr>\n",
       "      <th>4</th>\n",
       "      <td>5</td>\n",
       "      <td>0</td>\n",
       "      <td>3</td>\n",
       "      <td>0</td>\n",
       "      <td>35</td>\n",
       "      <td>0</td>\n",
       "      <td>0</td>\n",
       "      <td>8</td>\n",
       "      <td>0</td>\n",
       "      <td>8</td>\n",
       "      <td>1</td>\n",
       "    </tr>\n",
       "  </tbody>\n",
       "</table>\n",
       "</div>"
      ],
      "text/plain": [
       "   PassengerId  Survived  Pclass  Sex  Age  ...  Parch  Fare  Embarked  Deck  Title\n",
       "0            1         0       3    0   22  ...      0     7         0     8      1\n",
       "1            2         1       1    1   38  ...      0    71         1     3      3\n",
       "2            3         1       3    1   26  ...      0     7         0     8      2\n",
       "3            4         1       1    1   35  ...      0    53         0     3      3\n",
       "4            5         0       3    0   35  ...      0     8         0     8      1\n",
       "\n",
       "[5 rows x 11 columns]"
      ]
     },
     "execution_count": 18,
     "metadata": {
      "tags": []
     },
     "output_type": "execute_result"
    }
   ],
   "source": [
    "train_df.head()"
   ]
  },
  {
   "cell_type": "code",
   "execution_count": null,
   "metadata": {
    "colab": {},
    "colab_type": "code",
    "id": "LbGxisaKChEE"
   },
   "outputs": [],
   "source": []
  },
  {
   "cell_type": "markdown",
   "metadata": {
    "colab_type": "text",
    "id": "rlsvlYjAChVQ"
   },
   "source": [
    "## Using LassoCV"
   ]
  },
  {
   "cell_type": "code",
   "execution_count": null,
   "metadata": {
    "colab": {
     "base_uri": "https://localhost:8080/"
    },
    "colab_type": "code",
    "id": "fJzeaIAt0-18",
    "outputId": "0f1c958c-c5cb-4eaa-eb4c-e7f6d11c3002"
   },
   "outputs": [
    {
     "name": "stdout",
     "output_type": "stream",
     "text": [
      "Train Data:  (712, 11) Cross Validation Data:  (89, 11) Test Data:  (90, 11)\n",
      "RMSE of Lasso  :  0.4395925969844876\n"
     ]
    },
    {
     "data": {
      "image/png": "[encoded data removed]",
      "text/plain": [
       "<Figure size 720x432 with 1 Axes>"
      ]
     },
     "metadata": {
      "tags": []
     },
     "output_type": "display_data"
    }
   ],
   "source": [
    "from sklearn.linear_model import LassoCV\n",
    "\n",
    "rs = 1\n",
    "# splitting the data into training, testing and validation sets\n",
    "Train, Test = train_test_split(train_df, test_size= 0.2, random_state= rs)\n",
    "\n",
    "CV, Test = train_test_split(Test, test_size=0.5, random_state = rs)\n",
    "\n",
    "print(\"Train Data: \", Train.shape,\"Cross Validation Data: \", CV.shape,\"Test Data: \", Test.shape)\n",
    "\n",
    "# split the data in dependent and independent variable\n",
    "Train_y = np.array(Train[\"Survived\"])\n",
    "CV_y = np.array(CV[\"Survived\"])\n",
    "Test_y = np.array(Test[\"Survived\"])\n",
    "Train_x = Train.drop([\"Survived\"], axis = 1)\n",
    "CV_x = CV.drop([\"Survived\"], axis = 1)\n",
    "Test_x = Test.drop([\"Survived\"], axis = 1)\n",
    "\n",
    "# performing LassoCV for variable selection\n",
    "# lasso is linear regression with l1 regularization\n",
    "modellasso = LassoCV(alphas = [1, 0.1, 0.001, 0.0001, 10, 1000], cv=5, random_state=rs).fit(Train_x, Train_y)\n",
    "lassopred = modellasso.predict(CV_x)\n",
    "print(\"RMSE of Lasso  : \", np.sqrt(mean_squared_error(lassopred, CV_y)))\n",
    "\n",
    "coeff = modellasso.coef_\n",
    "\n",
    "x = list(Train_x)\n",
    "x_pos = [i for i, _ in enumerate(x)]\n",
    "\n",
    "# Visualizing the importance (value of their coefficients) of the parameters\n",
    "#### Uncomment the following code to view the graph showing the features with their coefficients\n",
    "plt.figure(figsize = (10,6))\n",
    "plt.bar(x_pos, coeff, color='red', alpha=0.5)\n",
    "plt.ylabel(\"Features -->\")\n",
    "plt.xlabel(\"Coefficents -->\")\n",
    "plt.title(\"Coefficents from Lasso\")\n",
    "plt.xticks(x_pos, x)\n",
    "plt.show()\n",
    "####\n",
    "\n",
    "\n",
    "####\n",
    "# Uncomment the following line of code to view the coefficients\n",
    "# modellasso.coef_\n",
    "####\n",
    "\n"
   ]
  },
  {
   "cell_type": "markdown",
   "metadata": {
    "colab_type": "text",
    "id": "16vaJ-Ww6IhW"
   },
   "source": [
    "### With positive coeficients only"
   ]
  },
  {
   "cell_type": "code",
   "execution_count": null,
   "metadata": {
    "colab": {
     "base_uri": "https://localhost:8080/"
    },
    "colab_type": "code",
    "id": "IIkG16cw2tMg",
    "outputId": "43f3b68a-203f-4398-85de-66ac5412ccbf"
   },
   "outputs": [
    {
     "name": "stdout",
     "output_type": "stream",
     "text": [
      "The metrics for the trained model are as follows: \n",
      "Jaccard Similarity :  0.8 \n",
      "Accuracy Score     :  0.8 \n",
      "F1 Score           :  0.8\n"
     ]
    },
    {
     "data": {
      "text/plain": [
       "Index(['Sex', 'Title'], dtype='object')"
      ]
     },
     "execution_count": 203,
     "metadata": {
      "tags": []
     },
     "output_type": "execute_result"
    }
   ],
   "source": [
    "thresh =0.05\n",
    "\n",
    "# Creating the model using Descision Tree Classifier\n",
    "ModelDT = DecisionTreeClassifier(criterion='entropy')\n",
    "#The features used for model are the ones who have the coefficients greater than 0.3 from the lassoCV\n",
    "#This can be further increased or decreased to increase or decrease number of features respectively when required.\n",
    "#Survived is the target variable\n",
    "ModelDT.fit(Train.drop(\"Survived\", axis=1).loc[:,modellasso.coef_>thresh],Train[\"Survived\"])\n",
    "\n",
    "# predicting the values for Test feature set\n",
    "yhat= ModelDT.predict(Test.drop(\"Survived\", axis=1).loc[:,modellasso.coef_>thresh])\n",
    "\n",
    "#printing the accuracy\n",
    "print(\"The metrics for the trained model are as follows:\",\"\\n\"\n",
    "      \"Jaccard Similarity : \",jaccard_similarity_score(Test[\"Survived\"], yhat), \"\\n\"\n",
    "      \"Accuracy Score     : \",accuracy_score(Test[\"Survived\"], yhat),\"\\n\"\n",
    "      \"F1 Score           : \",f1_score(Test[\"Survived\"], yhat, average=\"weighted\"))\n",
    "\n",
    "lassoCV_acc = accuracy_score(Test[\"Survived\"], yhat)\n",
    "lassoCV_features = Train.drop(\"Survived\", axis=1).loc[:,modellasso.coef_>thresh].columns.values\n",
    "\n",
    "####\n",
    "# uncomment the following line of code to view the name of the coolumns (feature variables)\n",
    "Train.drop(\"Survived\", axis=1).loc[:,modellasso.coef_>thresh].columns\n",
    "####"
   ]
  },
  {
   "cell_type": "markdown",
   "metadata": {
    "colab_type": "text",
    "id": "LUJ_IrxT6Q74"
   },
   "source": [
    "### With negative coefficients as well"
   ]
  },
  {
   "cell_type": "code",
   "execution_count": null,
   "metadata": {
    "colab": {
     "base_uri": "https://localhost:8080/"
    },
    "colab_type": "code",
    "id": "_9Kj_wor6URs",
    "outputId": "51174e8a-7d28-4270-cce0-40ad511c1e17"
   },
   "outputs": [
    {
     "name": "stdout",
     "output_type": "stream",
     "text": [
      "The metrics for the trained model are as follows: \n",
      "Jaccard Similarity :  0.8222222222222222 \n",
      "Accuracy Score     :  0.8222222222222222 \n",
      "F1 Score           :  0.8189300411522633\n"
     ]
    },
    {
     "data": {
      "text/plain": [
       "Index(['Pclass', 'Sex', 'SibSp', 'Title'], dtype='object')"
      ]
     },
     "execution_count": 204,
     "metadata": {
      "tags": []
     },
     "output_type": "execute_result"
    }
   ],
   "source": [
    "thresh_pos, thresh_neg =0.05, -0.05\n",
    "\n",
    "# Creating the model using Descision Tree Classifier\n",
    "ModelDT = DecisionTreeClassifier(criterion='entropy')\n",
    "#The features used for model are the ones who have the coefficients greater than 0.3 from the lassoCV\n",
    "#This can be further increased or decreased to increase or decrease number of features respectively when required.\n",
    "#Survived is the target variable\n",
    "ModelDT.fit(Train.drop(\"Survived\", axis=1).loc[:,(modellasso.coef_>thresh_pos) | (modellasso.coef_<thresh_neg) ],Train[\"Survived\"])\n",
    "\n",
    "# predicting the values for Test feature set\n",
    "yhat= ModelDT.predict(Test.drop(\"Survived\", axis=1).loc[:,(modellasso.coef_>thresh_pos) | (modellasso.coef_<thresh_neg) ])\n",
    "\n",
    "#printing the accuracy\n",
    "print(\"The metrics for the trained model are as follows:\",\"\\n\"\n",
    "      \"Jaccard Similarity : \",jaccard_similarity_score(Test[\"Survived\"], yhat), \"\\n\"\n",
    "      \"Accuracy Score     : \",accuracy_score(Test[\"Survived\"], yhat),\"\\n\"\n",
    "      \"F1 Score           : \",f1_score(Test[\"Survived\"], yhat, average=\"weighted\"))\n",
    "\n",
    "lassoCV_acc = accuracy_score(Test[\"Survived\"], yhat)\n",
    "lassoCV_features = Train.drop(\"Survived\", axis=1).loc[:,(modellasso.coef_>thresh_pos) | (modellasso.coef_<thresh_neg) ].columns.values\n",
    "\n",
    "####\n",
    "# uncomment the following line of code to view the name of the coolumns (feature variables)\n",
    "Train.drop(\"Survived\", axis=1).loc[:,(modellasso.coef_>thresh_pos) | (modellasso.coef_<thresh_neg) ].columns\n",
    "####"
   ]
  },
  {
   "cell_type": "code",
   "execution_count": null,
   "metadata": {
    "colab": {
     "base_uri": "https://localhost:8080/"
    },
    "colab_type": "code",
    "id": "m3bkxN7O7Esa",
    "outputId": "e73135cb-8f89-4dcb-8ede-37ef3b5a6fba"
   },
   "outputs": [
    {
     "data": {
      "text/html": [
       "<div>\n",
       "<style scoped>\n",
       "    .dataframe tbody tr th:only-of-type {\n",
       "        vertical-align: middle;\n",
       "    }\n",
       "\n",
       "    .dataframe tbody tr th {\n",
       "        vertical-align: top;\n",
       "    }\n",
       "\n",
       "    .dataframe thead th {\n",
       "        text-align: right;\n",
       "    }\n",
       "</style>\n",
       "<table border=\"1\" class=\"dataframe\">\n",
       "  <thead>\n",
       "    <tr style=\"text-align: right;\">\n",
       "      <th></th>\n",
       "      <th>PassengerId</th>\n",
       "      <th>Survived</th>\n",
       "      <th>Pclass</th>\n",
       "      <th>Sex</th>\n",
       "      <th>Age</th>\n",
       "      <th>SibSp</th>\n",
       "      <th>Parch</th>\n",
       "      <th>Fare</th>\n",
       "      <th>Embarked</th>\n",
       "      <th>Deck</th>\n",
       "      <th>Title</th>\n",
       "    </tr>\n",
       "  </thead>\n",
       "  <tbody>\n",
       "    <tr>\n",
       "      <th>301</th>\n",
       "      <td>302</td>\n",
       "      <td>1</td>\n",
       "      <td>3</td>\n",
       "      <td>0</td>\n",
       "      <td>38</td>\n",
       "      <td>2</td>\n",
       "      <td>0</td>\n",
       "      <td>23</td>\n",
       "      <td>2</td>\n",
       "      <td>8</td>\n",
       "      <td>1</td>\n",
       "    </tr>\n",
       "    <tr>\n",
       "      <th>309</th>\n",
       "      <td>310</td>\n",
       "      <td>1</td>\n",
       "      <td>1</td>\n",
       "      <td>1</td>\n",
       "      <td>30</td>\n",
       "      <td>0</td>\n",
       "      <td>0</td>\n",
       "      <td>56</td>\n",
       "      <td>1</td>\n",
       "      <td>5</td>\n",
       "      <td>2</td>\n",
       "    </tr>\n",
       "    <tr>\n",
       "      <th>516</th>\n",
       "      <td>517</td>\n",
       "      <td>1</td>\n",
       "      <td>2</td>\n",
       "      <td>1</td>\n",
       "      <td>34</td>\n",
       "      <td>0</td>\n",
       "      <td>0</td>\n",
       "      <td>10</td>\n",
       "      <td>0</td>\n",
       "      <td>6</td>\n",
       "      <td>3</td>\n",
       "    </tr>\n",
       "    <tr>\n",
       "      <th>120</th>\n",
       "      <td>121</td>\n",
       "      <td>0</td>\n",
       "      <td>2</td>\n",
       "      <td>0</td>\n",
       "      <td>21</td>\n",
       "      <td>2</td>\n",
       "      <td>0</td>\n",
       "      <td>73</td>\n",
       "      <td>0</td>\n",
       "      <td>8</td>\n",
       "      <td>1</td>\n",
       "    </tr>\n",
       "    <tr>\n",
       "      <th>570</th>\n",
       "      <td>571</td>\n",
       "      <td>1</td>\n",
       "      <td>2</td>\n",
       "      <td>0</td>\n",
       "      <td>62</td>\n",
       "      <td>0</td>\n",
       "      <td>0</td>\n",
       "      <td>10</td>\n",
       "      <td>0</td>\n",
       "      <td>8</td>\n",
       "      <td>1</td>\n",
       "    </tr>\n",
       "  </tbody>\n",
       "</table>\n",
       "</div>"
      ],
      "text/plain": [
       "     PassengerId  Survived  Pclass  Sex  ...  Fare  Embarked  Deck  Title\n",
       "301          302         1       3    0  ...    23         2     8      1\n",
       "309          310         1       1    1  ...    56         1     5      2\n",
       "516          517         1       2    1  ...    10         0     6      3\n",
       "120          121         0       2    0  ...    73         0     8      1\n",
       "570          571         1       2    0  ...    10         0     8      1\n",
       "\n",
       "[5 rows x 11 columns]"
      ]
     },
     "execution_count": 205,
     "metadata": {
      "tags": []
     },
     "output_type": "execute_result"
    }
   ],
   "source": [
    "Train.head()"
   ]
  },
  {
   "cell_type": "code",
   "execution_count": null,
   "metadata": {
    "colab": {},
    "colab_type": "code",
    "id": "i8oegy3V-t0h"
   },
   "outputs": [],
   "source": []
  },
  {
   "cell_type": "markdown",
   "metadata": {
    "colab_type": "text",
    "id": "XSwneZl6FB6t"
   },
   "source": [
    "## Using Correlation"
   ]
  },
  {
   "cell_type": "code",
   "execution_count": null,
   "metadata": {
    "colab": {
     "base_uri": "https://localhost:8080/",
     "height": 34
    },
    "colab_type": "code",
    "id": "Lh_GWHRdHHPg",
    "outputId": "b9cb48d6-c909-498c-eb51-b2eb90b923af"
   },
   "outputs": [
    {
     "name": "stdout",
     "output_type": "stream",
     "text": [
      "{'Survived', 'Sex'}\n"
     ]
    }
   ],
   "source": [
    "# 'PassengerId', 'Survived', 'Pclass', 'Sex', 'Age', 'SibSp',\n",
    "#        'Parch', 'Fare', 'Embarked', 'Deck', 'Title'\n",
    "\n",
    "corrmat=train_df.corr()\n",
    "# list((corrmat[\"Survived\"]>1)['Survived'].index.values)\n",
    "select_fet = set(list(corrmat[(corrmat[\"Survived\"]>0.5)].index.values))\n",
    "# for i in select_fet:\n",
    "corrmat = corrmat[(corrmat[\"Survived\"]>0.5)].transpose()\n",
    "print(select_fet)\n",
    "# for corrmat select_fet\n",
    "# print(corrmat.transpose())\n",
    "# print(corrmat[select_fet])\n",
    "for i in corrmat:\n",
    "    select_fet = select_fet.intersection(set(corrmat[(corrmat[i]>0.5)].index.values))\n",
    "    # print(corrmat[(corrmat[i]>0.5)].index.values)\n",
    "corrmat=train_df.corr()\n",
    "select_fet = set(list(corrmat[(corrmat[\"Survived\"]>0.5)].index.values))\n",
    "corrmat = corrmat[(corrmat[\"Survived\"]>0.5)].transpose()\n",
    "for i in corrmat:\n",
    "    select_fet = select_fet.intersection(set(corrmat[(corrmat[i]>0.5)].index.values))\n"
   ]
  },
  {
   "cell_type": "code",
   "execution_count": null,
   "metadata": {
    "colab": {},
    "colab_type": "code",
    "id": "JOs8I5gv_vKg"
   },
   "outputs": [],
   "source": [
    "# Finding the correlation between the features\n",
    "corrmat=train_df.corr()\n",
    "acc= []\n",
    "feat = []\n",
    "x = []\n",
    "for i in np.linspace(0,1, 20):\n",
    "  print(\"i is\", i)\n",
    "  if i==1:\n",
    "    break\n",
    "  \n",
    "  # Selecting the variables with correlation greater than 0.5 or less than -0.5 as features to train the model\n",
    "  Features_list = list(corrmat[(corrmat[\"Survived\"]>i) | (corrmat[\"Survived\"]<-i)][\"Survived\"].index.values)\n",
    "  Features_list.remove(\"Survived\")\n",
    "  if len(Features_list)==0:\n",
    "    break\n",
    "  # Visualizing the correlation between the features through a heat map\n",
    "  # Here only the selected columns (variables) are used to plot.\n",
    "  #### no need of heat for looping through various threshold\n",
    "  # import seaborn as sns\n",
    "  # plt.figure(figsize=(20,20))\n",
    "  # sns.heatmap(train_df[Features_list+[\"Survived\"]].corr(), annot=True,cmap=\"RdYlGn\")\n",
    "  ####\n",
    "  X = train_df[Features_list].values\n",
    "  y = train_df[\"Survived\"].values\n",
    "  X_train,X_test, y_train,y_test = train_test_split(X,y, random_state=0)\n",
    "  print(\"Training Data X: \",X_train.shape, \" Testing Data X: \",X_test.shape, \"\\n\"\n",
    "        \"Training Data y: \",y_train.shape, \" Testing Data y: \",y_test.shape)\n",
    "  # Creating the model using Descision Tree Classifier\n",
    "  ModelDT = DecisionTreeClassifier(criterion='entropy')\n",
    "  #The features used for model are the ones who have the vairables having correlation greater than 0.5 or less than -0.5\n",
    "  #This can be further increased or decreased to increase or decrease number of features respectively when required.\n",
    "  #DBLVEFORC is the target variable\n",
    "  ModelDT.fit(X_train,y_train)\n",
    "\n",
    "  # predicting the values for Test feature set\n",
    "  yhat= ModelDT.predict(X_test)\n",
    "\n",
    "  #printing the accuracy\n",
    "  print(\"The metrics for the trained model are as follows:\",\"\\n\"\n",
    "        \"Jaccard Similarity : \",jaccard_similarity_score(y_test, yhat), \"\\n\"\n",
    "        \"Accuracy Score     : \",accuracy_score(y_test, yhat),\"\\n\"\n",
    "        \"F1 Score           : \",f1_score(y_test, yhat, average=\"weighted\"))\n",
    "\n",
    "  corr_acc = accuracy_score(y_test, yhat)\n",
    "  corr_features = Features_list\n",
    "  x.append(i)\n",
    "  acc.append(corr_acc)\n",
    "  feat.append(corr_features)\n",
    "\n",
    "plt.plot(x, acc)\n",
    "plt.title(\"Threshold VS Accuracy\")\n",
    "plt.ylabel(\"Accuracy\")\n",
    "plt.xlabel(\"Threshold\")"
   ]
  },
  {
   "cell_type": "code",
   "execution_count": null,
   "metadata": {
    "colab": {},
    "colab_type": "code",
    "id": "SIxIj86P_xXg"
   },
   "outputs": [],
   "source": [
    "threshold_max = x[acc.index(max(acc))]"
   ]
  },
  {
   "cell_type": "code",
   "execution_count": null,
   "metadata": {
    "colab": {
     "base_uri": "https://localhost:8080/",
     "height": 34
    },
    "colab_type": "code",
    "id": "7OYqH70DPe38",
    "outputId": "c8f9beba-d325-47d6-a869-7ba9ea19afca"
   },
   "outputs": [
    {
     "name": "stdout",
     "output_type": "stream",
     "text": [
      "0.15789473684210525\n"
     ]
    }
   ],
   "source": [
    "print(threshold_max)"
   ]
  },
  {
   "cell_type": "code",
   "execution_count": null,
   "metadata": {
    "colab": {
     "base_uri": "https://localhost:8080/",
     "height": 141
    },
    "colab_type": "code",
    "id": "Y7fdIg3YI68U",
    "outputId": "baa16349-e572-4445-fbbf-d52d46e1298c"
   },
   "outputs": [
    {
     "name": "stdout",
     "output_type": "stream",
     "text": [
      "Training Data X:  (668, 5)  Testing Data X:  (223, 5) \n",
      "Training Data y:  (668,)  Testing Data y:  (223,)\n",
      "The metrics for the trained model are as follows: \n",
      "Jaccard Similarity :  0.8251121076233184 \n",
      "Accuracy Score     :  0.8251121076233184 \n",
      "F1 Score           :  0.8229045949458927\n",
      "['Pclass', 'Sex', 'Fare', 'Deck', 'Title']\n"
     ]
    }
   ],
   "source": [
    "# Selecting the variables with correlation greater than 0.5 or less than -0.5 as features to train the model\n",
    "Features_list = list(corrmat[(corrmat[\"Survived\"]>threshold_max) | (corrmat[\"Survived\"]<-threshold_max)][\"Survived\"].index.values)\n",
    "Features_list.remove(\"Survived\")\n",
    "# Visualizing the correlation between the features through a heat map\n",
    "# Here only the selected columns (variables) are used to plot.\n",
    "#### no need of heat for looping through various threshold\n",
    "# import seaborn as sns\n",
    "# plt.figure(figsize=(20,20))\n",
    "# sns.heatmap(train_df[Features_list+[\"Survived\"]].corr(), annot=True,cmap=\"RdYlGn\")\n",
    "####\n",
    "X = train_df[Features_list].values\n",
    "y = train_df[\"Survived\"].values\n",
    "X_train,X_test, y_train,y_test = train_test_split(X,y, random_state=0)\n",
    "print(\"Training Data X: \",X_train.shape, \" Testing Data X: \",X_test.shape, \"\\n\"\n",
    "      \"Training Data y: \",y_train.shape, \" Testing Data y: \",y_test.shape)\n",
    "# Creating the model using Descision Tree Classifier\n",
    "ModelDT = DecisionTreeClassifier(criterion='entropy')\n",
    "#The features used for model are the ones who have the vairables having correlation greater than 0.5 or less than -0.5\n",
    "#This can be further increased or decreased to increase or decrease number of features respectively when required.\n",
    "#DBLVEFORC is the target variable\n",
    "ModelDT.fit(X_train,y_train)\n",
    "\n",
    "# predicting the values for Test feature set\n",
    "yhat= ModelDT.predict(X_test)\n",
    "\n",
    "#printing the accuracy\n",
    "print(\"The metrics for the trained model are as follows:\",\"\\n\"\n",
    "      \"Jaccard Similarity : \",jaccard_similarity_score(y_test, yhat), \"\\n\"\n",
    "      \"Accuracy Score     : \",accuracy_score(y_test, yhat),\"\\n\"\n",
    "      \"F1 Score           : \",f1_score(y_test, yhat, average=\"weighted\"))\n",
    "\n",
    "corr_acc = accuracy_score(y_test, yhat)\n",
    "corr_features = Features_list\n",
    "print(corr_features)"
   ]
  },
  {
   "cell_type": "markdown",
   "metadata": {
    "colab_type": "text",
    "id": "X7dPJQrpfzlr"
   },
   "source": [
    "## Using SelectKBest for feature Selection mutual_info_classif"
   ]
  },
  {
   "cell_type": "code",
   "execution_count": null,
   "metadata": {
    "colab": {
     "base_uri": "https://localhost:8080/"
    },
    "colab_type": "code",
    "id": "QL2lGybF5cMM",
    "outputId": "c7146d81-8672-436f-a70d-7e0839d9c1a5"
   },
   "outputs": [
    {
     "name": "stdout",
     "output_type": "stream",
     "text": [
      "(668, 1) (223, 1) (668,) (223,)\n",
      "The metrics for the trained model are as follows: \n",
      "Jaccard Similarity :  0.7847533632286996 \n",
      "Accuracy Score     :  0.7847533632286996 \n",
      "F1 Score           :  0.7817728858087603\n",
      "(668, 2) (223, 2) (668,) (223,)\n",
      "The metrics for the trained model are as follows: \n",
      "Jaccard Similarity :  0.7623318385650224 \n",
      "Accuracy Score     :  0.7623318385650224 \n",
      "F1 Score           :  0.7613966216100126\n",
      "(668, 3) (223, 3) (668,) (223,)\n",
      "The metrics for the trained model are as follows: \n",
      "Jaccard Similarity :  0.7668161434977578 \n",
      "Accuracy Score     :  0.7668161434977578 \n",
      "F1 Score           :  0.7581594310367548\n",
      "(668, 4) (223, 4) (668,) (223,)\n",
      "The metrics for the trained model are as follows: \n",
      "Jaccard Similarity :  0.8251121076233184 \n",
      "Accuracy Score     :  0.8251121076233184 \n",
      "F1 Score           :  0.8208756162650385\n",
      "(668, 5) (223, 5) (668,) (223,)\n",
      "The metrics for the trained model are as follows: \n",
      "Jaccard Similarity :  0.8071748878923767 \n",
      "Accuracy Score     :  0.8071748878923767 \n",
      "F1 Score           :  0.8025038845999144\n",
      "(668, 6) (223, 6) (668,) (223,)\n",
      "The metrics for the trained model are as follows: \n",
      "Jaccard Similarity :  0.8071748878923767 \n",
      "Accuracy Score     :  0.8071748878923767 \n",
      "F1 Score           :  0.8031236128097115\n",
      "(668, 7) (223, 7) (668,) (223,)\n",
      "The metrics for the trained model are as follows: \n",
      "Jaccard Similarity :  0.7982062780269058 \n",
      "Accuracy Score     :  0.7982062780269058 \n",
      "F1 Score           :  0.7939665715450469\n",
      "(668, 8) (223, 8) (668,) (223,)\n",
      "The metrics for the trained model are as follows: \n",
      "Jaccard Similarity :  0.7533632286995515 \n",
      "Accuracy Score     :  0.7533632286995515 \n",
      "F1 Score           :  0.7519283703820273\n",
      "(668, 9) (223, 9) (668,) (223,)\n",
      "The metrics for the trained model are as follows: \n",
      "Jaccard Similarity :  0.7354260089686099 \n",
      "Accuracy Score     :  0.7354260089686099 \n",
      "F1 Score           :  0.7327466665615797\n",
      "(668, 10) (223, 10) (668,) (223,)\n",
      "The metrics for the trained model are as follows: \n",
      "Jaccard Similarity :  0.7488789237668162 \n",
      "Accuracy Score     :  0.7488789237668162 \n",
      "F1 Score           :  0.7454017001102203\n"
     ]
    },
    {
     "data": {
      "text/plain": [
       "Text(0, 0.5, 'Accuracy')"
      ]
     },
     "execution_count": 210,
     "metadata": {
      "tags": []
     },
     "output_type": "execute_result"
    },
    {
     "data": {
      "image/png": "[encoded data removed]",
      "text/plain": [
       "<Figure size 432x288 with 1 Axes>"
      ]
     },
     "metadata": {
      "tags": []
     },
     "output_type": "display_data"
    }
   ],
   "source": [
    "import numpy as np \n",
    "from sklearn.feature_selection import SelectKBest\n",
    "from sklearn.feature_selection import mutual_info_classif #f_classif chi2\n",
    "from sklearn.tree import DecisionTreeClassifier\n",
    "\n",
    "acc = []\n",
    "ks = []\n",
    "for k in range(1,11):\n",
    "  selector = SelectKBest(mutual_info_classif, k=k)\n",
    "  selector.fit(train_df.drop(\"Survived\", axis=1),train_df[\"Survived\"])\n",
    "  X = train_df.drop(\"Survived\", axis=1).iloc[:,selector.get_support(indices=True)].values\n",
    "  y = train_df[\"Survived\"].values\n",
    "\n",
    "  X_train, X_test, y_train, y_test = train_test_split(X,y, random_state=1)\n",
    "  print(X_train.shape, X_test.shape, y_train.shape, y_test.shape)\n",
    "\n",
    "  ModelDT = DecisionTreeClassifier(criterion='entropy')\n",
    "\n",
    "  ModelDT.fit(X_train,y_train)\n",
    "\n",
    "  yhat= ModelDT.predict(X_test)\n",
    "\n",
    "  #printing the accuracy\n",
    "  print(\"The metrics for the trained model are as follows:\",\"\\n\"\n",
    "        \"Jaccard Similarity : \",jaccard_similarity_score(y_test, yhat), \"\\n\"\n",
    "        \"Accuracy Score     : \",accuracy_score(y_test, yhat),\"\\n\"\n",
    "        \"F1 Score           : \",f1_score(y_test, yhat, average=\"weighted\"))\n",
    "\n",
    "  mutual_info_acc = accuracy_score(y_test, yhat)\n",
    "  mutual_info_features = train_df.drop(\"Survived\", axis=1).iloc[:,selector.get_support(indices=True)].columns.values\n",
    "  ks.append(k)\n",
    "  acc.append(mutual_info_acc)\n",
    "\n",
    "plt.plot(ks, acc)\n",
    "plt.title(\"k VS Accuracy\")\n",
    "plt.xlabel(\"k\")\n",
    "plt.ylabel(\"Accuracy\")"
   ]
  },
  {
   "cell_type": "code",
   "execution_count": null,
   "metadata": {
    "colab": {
     "base_uri": "https://localhost:8080/"
    },
    "colab_type": "code",
    "id": "oxo_T4B4j2kS",
    "outputId": "e1be142b-244e-49d4-e583-a3f64934d226"
   },
   "outputs": [
    {
     "name": "stdout",
     "output_type": "stream",
     "text": [
      "4\n"
     ]
    }
   ],
   "source": [
    "optimum_k =  ks[acc.index(max(acc))]\n",
    "print(optimum_k )"
   ]
  },
  {
   "cell_type": "code",
   "execution_count": null,
   "metadata": {
    "colab": {
     "base_uri": "https://localhost:8080/"
    },
    "colab_type": "code",
    "id": "wXpMFTUek7yt",
    "outputId": "671e035e-de9e-476a-ad6e-af8cb7103887"
   },
   "outputs": [
    {
     "name": "stdout",
     "output_type": "stream",
     "text": [
      "(668, 4) (223, 4) (668,) (223,)\n",
      "The metrics for the trained model are as follows: \n",
      "Jaccard Similarity :  0.8251121076233184 \n",
      "Accuracy Score     :  0.8251121076233184 \n",
      "F1 Score           :  0.8208756162650385\n"
     ]
    }
   ],
   "source": [
    "selector = SelectKBest(mutual_info_classif, k=optimum_k)\n",
    "selector.fit(train_df.drop(\"Survived\", axis=1),train_df[\"Survived\"])\n",
    "X = train_df.drop(\"Survived\", axis=1).iloc[:,selector.get_support(indices=True)].values\n",
    "y = train_df[\"Survived\"].values\n",
    "\n",
    "X_train, X_test, y_train, y_test = train_test_split(X,y, random_state=1)\n",
    "print(X_train.shape, X_test.shape, y_train.shape, y_test.shape)\n",
    "\n",
    "ModelDT = DecisionTreeClassifier(criterion='entropy')\n",
    "\n",
    "ModelDT.fit(X_train,y_train)\n",
    "\n",
    "yhat= ModelDT.predict(X_test)\n",
    "\n",
    "#printing the accuracy\n",
    "print(\"The metrics for the trained model are as follows:\",\"\\n\"\n",
    "      \"Jaccard Similarity : \",jaccard_similarity_score(y_test, yhat), \"\\n\"\n",
    "      \"Accuracy Score     : \",accuracy_score(y_test, yhat),\"\\n\"\n",
    "      \"F1 Score           : \",f1_score(y_test, yhat, average=\"weighted\"))\n",
    "\n",
    "mutual_info_acc = accuracy_score(y_test, yhat)\n",
    "mutual_info_features = train_df.drop(\"Survived\", axis=1).iloc[:,selector.get_support(indices=True)].columns.values"
   ]
  },
  {
   "cell_type": "code",
   "execution_count": null,
   "metadata": {
    "colab": {
     "base_uri": "https://localhost:8080/"
    },
    "colab_type": "code",
    "id": "6a0Z9jgqlL2z",
    "outputId": "230242b1-1ee3-455e-bf4b-7a1131adb624"
   },
   "outputs": [
    {
     "data": {
      "text/plain": [
       "array(['Pclass', 'Sex', 'Fare', 'Title'], dtype=object)"
      ]
     },
     "execution_count": 213,
     "metadata": {
      "tags": []
     },
     "output_type": "execute_result"
    }
   ],
   "source": [
    "mutual_info_features"
   ]
  },
  {
   "cell_type": "markdown",
   "metadata": {
    "colab_type": "text",
    "id": "mIfnqrZStAvD"
   },
   "source": [
    "## Using SelectKBest f_classif"
   ]
  },
  {
   "cell_type": "code",
   "execution_count": null,
   "metadata": {
    "colab": {},
    "colab_type": "code",
    "id": "DNzLA-YYn6gx"
   },
   "outputs": [],
   "source": []
  },
  {
   "cell_type": "code",
   "execution_count": null,
   "metadata": {
    "colab": {
     "base_uri": "https://localhost:8080/"
    },
    "colab_type": "code",
    "id": "Xvagh9mpn6uj",
    "outputId": "dcc8194f-bd8c-478b-c657-380f289f9780"
   },
   "outputs": [
    {
     "name": "stdout",
     "output_type": "stream",
     "text": [
      "(668, 1) (223, 1) (668,) (223,)\n",
      "The metrics for the trained model are as follows: \n",
      "Jaccard Similarity :  0.7847533632286996 \n",
      "Accuracy Score     :  0.7847533632286996 \n",
      "F1 Score           :  0.7817728858087603\n",
      "(668, 2) (223, 2) (668,) (223,)\n",
      "The metrics for the trained model are as follows: \n",
      "Jaccard Similarity :  0.7623318385650224 \n",
      "Accuracy Score     :  0.7623318385650224 \n",
      "F1 Score           :  0.7613966216100126\n",
      "(668, 3) (223, 3) (668,) (223,)\n",
      "The metrics for the trained model are as follows: \n",
      "Jaccard Similarity :  0.757847533632287 \n",
      "Accuracy Score     :  0.757847533632287 \n",
      "F1 Score           :  0.734389720013566\n",
      "(668, 4) (223, 4) (668,) (223,)\n",
      "The metrics for the trained model are as follows: \n",
      "Jaccard Similarity :  0.757847533632287 \n",
      "Accuracy Score     :  0.757847533632287 \n",
      "F1 Score           :  0.740552497602487\n",
      "(668, 5) (223, 5) (668,) (223,)\n",
      "The metrics for the trained model are as follows: \n",
      "Jaccard Similarity :  0.8116591928251121 \n",
      "Accuracy Score     :  0.8116591928251121 \n",
      "F1 Score           :  0.8067796883569378\n",
      "(668, 6) (223, 6) (668,) (223,)\n",
      "The metrics for the trained model are as follows: \n",
      "Jaccard Similarity :  0.7847533632286996 \n",
      "Accuracy Score     :  0.7847533632286996 \n",
      "F1 Score           :  0.776762551726235\n",
      "(668, 7) (223, 7) (668,) (223,)\n",
      "The metrics for the trained model are as follows: \n",
      "Jaccard Similarity :  0.7757847533632287 \n",
      "Accuracy Score     :  0.7757847533632287 \n",
      "F1 Score           :  0.7691856471369142\n",
      "(668, 8) (223, 8) (668,) (223,)\n",
      "The metrics for the trained model are as follows: \n",
      "Jaccard Similarity :  0.7488789237668162 \n",
      "Accuracy Score     :  0.7488789237668162 \n",
      "F1 Score           :  0.7454017001102203\n",
      "(668, 9) (223, 9) (668,) (223,)\n",
      "The metrics for the trained model are as follows: \n",
      "Jaccard Similarity :  0.7488789237668162 \n",
      "Accuracy Score     :  0.7488789237668162 \n",
      "F1 Score           :  0.7454017001102203\n",
      "(668, 10) (223, 10) (668,) (223,)\n",
      "The metrics for the trained model are as follows: \n",
      "Jaccard Similarity :  0.7354260089686099 \n",
      "Accuracy Score     :  0.7354260089686099 \n",
      "F1 Score           :  0.7321030667755791\n"
     ]
    },
    {
     "data": {
      "text/plain": [
       "Text(0, 0.5, 'Accuracy')"
      ]
     },
     "execution_count": 214,
     "metadata": {
      "tags": []
     },
     "output_type": "execute_result"
    },
    {
     "data": {
      "image/png": "[encoded data removed]",
      "text/plain": [
       "<Figure size 432x288 with 1 Axes>"
      ]
     },
     "metadata": {
      "tags": []
     },
     "output_type": "display_data"
    }
   ],
   "source": [
    "import numpy as np \n",
    "from sklearn.feature_selection import SelectKBest\n",
    "from sklearn.feature_selection import f_classif #f_classif chi2\n",
    "from sklearn.tree import DecisionTreeClassifier\n",
    "\n",
    "acc = []\n",
    "ks = []\n",
    "for k in range(1,11):\n",
    "  selector = SelectKBest(f_classif, k=k)\n",
    "  selector.fit(train_df.drop(\"Survived\", axis=1),train_df[\"Survived\"])\n",
    "  X = train_df.drop(\"Survived\", axis=1).iloc[:,selector.get_support(indices=True)].values\n",
    "  y = train_df[\"Survived\"].values\n",
    "\n",
    "  X_train, X_test, y_train, y_test = train_test_split(X,y, random_state=1)\n",
    "  print(X_train.shape, X_test.shape, y_train.shape, y_test.shape)\n",
    "\n",
    "  ModelDT = DecisionTreeClassifier(criterion='entropy')\n",
    "\n",
    "  ModelDT.fit(X_train,y_train)\n",
    "\n",
    "  yhat= ModelDT.predict(X_test)\n",
    "\n",
    "  #printing the accuracy\n",
    "  print(\"The metrics for the trained model are as follows:\",\"\\n\"\n",
    "        \"Jaccard Similarity : \",jaccard_similarity_score(y_test, yhat), \"\\n\"\n",
    "        \"Accuracy Score     : \",accuracy_score(y_test, yhat),\"\\n\"\n",
    "        \"F1 Score           : \",f1_score(y_test, yhat, average=\"weighted\"))\n",
    "\n",
    "  f_classif_acc = accuracy_score(y_test, yhat)\n",
    "  f_classif_features = train_df.drop(\"Survived\", axis=1).iloc[:,selector.get_support(indices=True)].columns.values\n",
    "  ks.append(k)\n",
    "  acc.append(f_classif_acc)\n",
    "\n",
    "plt.plot(ks, acc)\n",
    "plt.title(\"k VS Accuracy\")\n",
    "plt.xlabel(\"k\")\n",
    "plt.ylabel(\"Accuracy\")"
   ]
  },
  {
   "cell_type": "code",
   "execution_count": null,
   "metadata": {
    "colab": {
     "base_uri": "https://localhost:8080/"
    },
    "colab_type": "code",
    "id": "GnmlM_MSn6um",
    "outputId": "cc50aeaf-5dfa-43c0-d595-db50c41377bb"
   },
   "outputs": [
    {
     "name": "stdout",
     "output_type": "stream",
     "text": [
      "5\n"
     ]
    }
   ],
   "source": [
    "optimum_k =  ks[acc.index(max(acc))]\n",
    "print(optimum_k )"
   ]
  },
  {
   "cell_type": "code",
   "execution_count": null,
   "metadata": {
    "colab": {
     "base_uri": "https://localhost:8080/"
    },
    "colab_type": "code",
    "id": "KC8jnp9Kn6uo",
    "outputId": "0026f7b6-9edb-46f2-e50c-5ded10b90fa5"
   },
   "outputs": [
    {
     "name": "stdout",
     "output_type": "stream",
     "text": [
      "(668, 5) (223, 5) (668,) (223,)\n",
      "The metrics for the trained model are as follows: \n",
      "Jaccard Similarity :  0.8116591928251121 \n",
      "Accuracy Score     :  0.8116591928251121 \n",
      "F1 Score           :  0.8067796883569378\n"
     ]
    }
   ],
   "source": [
    "selector = SelectKBest(f_classif, k=optimum_k)\n",
    "selector.fit(train_df.drop(\"Survived\", axis=1),train_df[\"Survived\"])\n",
    "X = train_df.drop(\"Survived\", axis=1).iloc[:,selector.get_support(indices=True)].values\n",
    "y = train_df[\"Survived\"].values\n",
    "\n",
    "X_train, X_test, y_train, y_test = train_test_split(X,y, random_state=1)\n",
    "print(X_train.shape, X_test.shape, y_train.shape, y_test.shape)\n",
    "\n",
    "ModelDT = DecisionTreeClassifier(criterion='entropy')\n",
    "\n",
    "ModelDT.fit(X_train,y_train)\n",
    "\n",
    "yhat= ModelDT.predict(X_test)\n",
    "\n",
    "#printing the accuracy\n",
    "print(\"The metrics for the trained model are as follows:\",\"\\n\"\n",
    "      \"Jaccard Similarity : \",jaccard_similarity_score(y_test, yhat), \"\\n\"\n",
    "      \"Accuracy Score     : \",accuracy_score(y_test, yhat),\"\\n\"\n",
    "      \"F1 Score           : \",f1_score(y_test, yhat, average=\"weighted\"))\n",
    "\n",
    "f_classif_acc = accuracy_score(y_test, yhat)\n",
    "f_classif_features = train_df.drop(\"Survived\", axis=1).iloc[:,selector.get_support(indices=True)].columns.values"
   ]
  },
  {
   "cell_type": "code",
   "execution_count": null,
   "metadata": {
    "colab": {
     "base_uri": "https://localhost:8080/"
    },
    "colab_type": "code",
    "id": "lhuI6qS_n6ur",
    "outputId": "80822f78-0b1f-4a25-c668-613c5f43c70e"
   },
   "outputs": [
    {
     "data": {
      "text/plain": [
       "array(['Pclass', 'Sex', 'Fare', 'Deck', 'Title'], dtype=object)"
      ]
     },
     "execution_count": 217,
     "metadata": {
      "tags": []
     },
     "output_type": "execute_result"
    }
   ],
   "source": [
    "f_classif_features"
   ]
  },
  {
   "cell_type": "code",
   "execution_count": null,
   "metadata": {
    "colab": {},
    "colab_type": "code",
    "id": "IPI39EXMpa81"
   },
   "outputs": [],
   "source": []
  },
  {
   "cell_type": "markdown",
   "metadata": {
    "colab_type": "text",
    "id": "_s5joahhqWiL"
   },
   "source": [
    "## Using Chi Squared"
   ]
  },
  {
   "cell_type": "code",
   "execution_count": null,
   "metadata": {
    "colab": {},
    "colab_type": "code",
    "id": "ZiVRl3z5qaWL"
   },
   "outputs": [],
   "source": []
  },
  {
   "cell_type": "code",
   "execution_count": null,
   "metadata": {
    "colab": {
     "base_uri": "https://localhost:8080/",
     "height": 1000
    },
    "colab_type": "code",
    "id": "xaJZRN45qaku",
    "outputId": "9c2be41a-806f-4dea-c709-fa1206b9be5c"
   },
   "outputs": [
    {
     "name": "stdout",
     "output_type": "stream",
     "text": [
      "(668, 1) (223, 1) (668,) (223,)\n",
      "The metrics for the trained model are as follows: \n",
      "Jaccard Similarity :  0.672645739910314 \n",
      "Accuracy Score     :  0.672645739910314 \n",
      "F1 Score           :  0.6463193920373662\n",
      "(668, 2) (223, 2) (668,) (223,)\n",
      "The metrics for the trained model are as follows: \n",
      "Jaccard Similarity :  0.7892376681614349 \n",
      "Accuracy Score     :  0.7892376681614349 \n",
      "F1 Score           :  0.7818359257092146\n",
      "(668, 3) (223, 3) (668,) (223,)\n",
      "The metrics for the trained model are as follows: \n",
      "Jaccard Similarity :  0.7668161434977578 \n",
      "Accuracy Score     :  0.7668161434977578 \n",
      "F1 Score           :  0.7581594310367548\n",
      "(668, 4) (223, 4) (668,) (223,)\n",
      "The metrics for the trained model are as follows: \n",
      "Jaccard Similarity :  0.7937219730941704 \n",
      "Accuracy Score     :  0.7937219730941704 \n",
      "F1 Score           :  0.7883777539147413\n",
      "(668, 5) (223, 5) (668,) (223,)\n",
      "The metrics for the trained model are as follows: \n",
      "Jaccard Similarity :  0.8116591928251121 \n",
      "Accuracy Score     :  0.8116591928251121 \n",
      "F1 Score           :  0.8067796883569378\n",
      "(668, 6) (223, 6) (668,) (223,)\n",
      "The metrics for the trained model are as follows: \n",
      "Jaccard Similarity :  0.7399103139013453 \n",
      "Accuracy Score     :  0.7399103139013453 \n",
      "F1 Score           :  0.7340344599528249\n",
      "(668, 7) (223, 7) (668,) (223,)\n",
      "The metrics for the trained model are as follows: \n",
      "Jaccard Similarity :  0.7802690582959642 \n",
      "Accuracy Score     :  0.7802690582959642 \n",
      "F1 Score           :  0.778043841720634\n",
      "(668, 8) (223, 8) (668,) (223,)\n",
      "The metrics for the trained model are as follows: \n",
      "Jaccard Similarity :  0.7713004484304933 \n",
      "Accuracy Score     :  0.7713004484304933 \n",
      "F1 Score           :  0.7684280746704159\n",
      "(668, 9) (223, 9) (668,) (223,)\n",
      "The metrics for the trained model are as follows: \n",
      "Jaccard Similarity :  0.7399103139013453 \n",
      "Accuracy Score     :  0.7399103139013453 \n",
      "F1 Score           :  0.7363089036855854\n",
      "(668, 10) (223, 10) (668,) (223,)\n",
      "The metrics for the trained model are as follows: \n",
      "Jaccard Similarity :  0.7443946188340808 \n",
      "Accuracy Score     :  0.7443946188340808 \n",
      "F1 Score           :  0.740514052161662\n"
     ]
    },
    {
     "data": {
      "text/plain": [
       "Text(0, 0.5, 'Accuracy')"
      ]
     },
     "execution_count": 218,
     "metadata": {
      "tags": []
     },
     "output_type": "execute_result"
    },
    {
     "data": {
      "image/png": "[encoded data removed]",
      "text/plain": [
       "<Figure size 432x288 with 1 Axes>"
      ]
     },
     "metadata": {
      "tags": []
     },
     "output_type": "display_data"
    }
   ],
   "source": [
    "import numpy as np \n",
    "from sklearn.feature_selection import SelectKBest\n",
    "from sklearn.feature_selection import chi2 #f_classif chi2\n",
    "\n",
    "acc = []\n",
    "ks = []\n",
    "for k in range(1,11):\n",
    "  selector = SelectKBest(chi2, k=k)\n",
    "  selector.fit(train_df.drop(\"Survived\", axis=1),train_df[\"Survived\"])\n",
    "  X = train_df.drop(\"Survived\", axis=1).iloc[:,selector.get_support(indices=True)].values\n",
    "  y = train_df[\"Survived\"].values\n",
    "\n",
    "  X_train, X_test, y_train, y_test = train_test_split(X,y, random_state=1)\n",
    "  print(X_train.shape, X_test.shape, y_train.shape, y_test.shape)\n",
    "\n",
    "  ModelDT = DecisionTreeClassifier(criterion='entropy')\n",
    "\n",
    "  ModelDT.fit(X_train,y_train)\n",
    "\n",
    "  yhat= ModelDT.predict(X_test)\n",
    "\n",
    "  #printing the accuracy\n",
    "  print(\"The metrics for the trained model are as follows:\",\"\\n\"\n",
    "        \"Jaccard Similarity : \",jaccard_similarity_score(y_test, yhat), \"\\n\"\n",
    "        \"Accuracy Score     : \",accuracy_score(y_test, yhat),\"\\n\"\n",
    "        \"F1 Score           : \",f1_score(y_test, yhat, average=\"weighted\"))\n",
    "\n",
    "  chi2_acc = accuracy_score(y_test, yhat)\n",
    "  chi2_features = train_df.drop(\"Survived\", axis=1).iloc[:,selector.get_support(indices=True)].columns.values\n",
    "  ks.append(k)\n",
    "  acc.append(chi2_acc)\n",
    "\n",
    "plt.plot(ks, acc)\n",
    "plt.title(\"k VS Accuracy\")\n",
    "plt.xlabel(\"k\")\n",
    "plt.ylabel(\"Accuracy\")"
   ]
  },
  {
   "cell_type": "code",
   "execution_count": null,
   "metadata": {
    "colab": {
     "base_uri": "https://localhost:8080/",
     "height": 34
    },
    "colab_type": "code",
    "id": "fK0uIqJxqakx",
    "outputId": "71a6866c-33be-47f5-fa53-84920d8ff80d"
   },
   "outputs": [
    {
     "name": "stdout",
     "output_type": "stream",
     "text": [
      "5\n"
     ]
    }
   ],
   "source": [
    "optimum_k =  ks[acc.index(max(acc))]\n",
    "print(optimum_k )"
   ]
  },
  {
   "cell_type": "code",
   "execution_count": null,
   "metadata": {
    "colab": {
     "base_uri": "https://localhost:8080/",
     "height": 105
    },
    "colab_type": "code",
    "id": "9jlE79vZqak0",
    "outputId": "4fbf9751-ace9-4c5b-a885-f18a3f6402f2"
   },
   "outputs": [
    {
     "name": "stdout",
     "output_type": "stream",
     "text": [
      "(668, 5) (223, 5) (668,) (223,)\n",
      "The metrics for the trained model are as follows: \n",
      "Jaccard Similarity :  0.8071748878923767 \n",
      "Accuracy Score     :  0.8071748878923767 \n",
      "F1 Score           :  0.8025038845999144\n"
     ]
    }
   ],
   "source": [
    "selector = SelectKBest(chi2, k=optimum_k)\n",
    "selector.fit(train_df.drop(\"Survived\", axis=1),train_df[\"Survived\"])\n",
    "X = train_df.drop(\"Survived\", axis=1).iloc[:,selector.get_support(indices=True)].values\n",
    "y = train_df[\"Survived\"].values\n",
    "\n",
    "X_train, X_test, y_train, y_test = train_test_split(X,y, random_state=1)\n",
    "print(X_train.shape, X_test.shape, y_train.shape, y_test.shape)\n",
    "\n",
    "ModelDT = DecisionTreeClassifier(criterion='entropy')\n",
    "\n",
    "ModelDT.fit(X_train,y_train)\n",
    "\n",
    "yhat= ModelDT.predict(X_test)\n",
    "\n",
    "#printing the accuracy\n",
    "print(\"The metrics for the trained model are as follows:\",\"\\n\"\n",
    "      \"Jaccard Similarity : \",jaccard_similarity_score(y_test, yhat), \"\\n\"\n",
    "      \"Accuracy Score     : \",accuracy_score(y_test, yhat),\"\\n\"\n",
    "      \"F1 Score           : \",f1_score(y_test, yhat, average=\"weighted\"))\n",
    "\n",
    "chi2_acc = accuracy_score(y_test, yhat)\n",
    "chi2_features = train_df.drop(\"Survived\", axis=1).iloc[:,selector.get_support(indices=True)].columns.values"
   ]
  },
  {
   "cell_type": "code",
   "execution_count": null,
   "metadata": {
    "colab": {
     "base_uri": "https://localhost:8080/",
     "height": 34
    },
    "colab_type": "code",
    "id": "hJGxNgWfqak2",
    "outputId": "48436572-1e7a-4c22-e035-724b80fbbaa6"
   },
   "outputs": [
    {
     "data": {
      "text/plain": [
       "array(['Pclass', 'Sex', 'Fare', 'Deck', 'Title'], dtype=object)"
      ]
     },
     "execution_count": 221,
     "metadata": {
      "tags": []
     },
     "output_type": "execute_result"
    }
   ],
   "source": [
    "chi2_features"
   ]
  },
  {
   "cell_type": "code",
   "execution_count": null,
   "metadata": {
    "colab": {},
    "colab_type": "code",
    "id": "t_6WwGoHqzaF"
   },
   "outputs": [],
   "source": []
  },
  {
   "cell_type": "markdown",
   "metadata": {
    "colab_type": "text",
    "id": "Zddl1Ivh1GNi"
   },
   "source": [
    "## Using RFE with min_features_to_select = 2"
   ]
  },
  {
   "cell_type": "code",
   "execution_count": null,
   "metadata": {
    "colab": {
     "base_uri": "https://localhost:8080/"
    },
    "colab_type": "code",
    "id": "G8hWJISt1Jvw",
    "outputId": "4a948561-ef68-4c71-be6f-53e2aaa4e0d1"
   },
   "outputs": [
    {
     "name": "stdout",
     "output_type": "stream",
     "text": [
      "Optimal number of features : 5\n"
     ]
    },
    {
     "data": {
      "image/png": "[encoded data removed]",
      "text/plain": [
       "<Figure size 432x288 with 1 Axes>"
      ]
     },
     "metadata": {
      "tags": []
     },
     "output_type": "display_data"
    }
   ],
   "source": [
    "from sklearn.model_selection import StratifiedKFold\n",
    "from sklearn.feature_selection import RFECV\n",
    "\n",
    "ModelDT = DecisionTreeClassifier()\n",
    "# The \"accuracy\" scoring is proportional to the number of correct\n",
    "# classifications\n",
    "rfecv = RFECV(estimator=ModelDT, step=1, cv=StratifiedKFold(2),\n",
    "              min_features_to_select = 2,\n",
    "              scoring='accuracy')\n",
    "X = train_df.drop(\"Survived\", axis=1).values\n",
    "y = train_df[\"Survived\"].values\n",
    "rfecv.fit(X, y)\n",
    "\n",
    "print(\"Optimal number of features : %d\" % rfecv.n_features_)\n",
    "\n",
    "# Plot number of features VS. cross-validation scores\n",
    "plt.figure()\n",
    "plt.xlabel(\"Number of features selected\")\n",
    "plt.ylabel(\"Cross validation score (nb of correct classifications)\")\n",
    "plt.plot(range(1, len(rfecv.grid_scores_) + 1), rfecv.grid_scores_)\n",
    "plt.show()"
   ]
  },
  {
   "cell_type": "code",
   "execution_count": null,
   "metadata": {
    "colab": {
     "base_uri": "https://localhost:8080/"
    },
    "colab_type": "code",
    "id": "BqkCh_3y1hMz",
    "outputId": "973a9fd5-bafd-4111-a183-f8d2b1dd3244"
   },
   "outputs": [
    {
     "data": {
      "text/plain": [
       "array([0, 1, 3, 6, 9])"
      ]
     },
     "execution_count": 223,
     "metadata": {
      "tags": []
     },
     "output_type": "execute_result"
    }
   ],
   "source": [
    "rfecv.get_support(indices=True)"
   ]
  },
  {
   "cell_type": "code",
   "execution_count": null,
   "metadata": {
    "colab": {
     "base_uri": "https://localhost:8080/"
    },
    "colab_type": "code",
    "id": "KXZ_iEUG9q3X",
    "outputId": "26cde64f-0653-43a3-f3ea-9b2a1b2066d0"
   },
   "outputs": [
    {
     "data": {
      "text/plain": [
       "5"
      ]
     },
     "execution_count": 224,
     "metadata": {
      "tags": []
     },
     "output_type": "execute_result"
    }
   ],
   "source": [
    "rfecv.n_features_ ## The number of features selected"
   ]
  },
  {
   "cell_type": "code",
   "execution_count": null,
   "metadata": {
    "colab": {
     "base_uri": "https://localhost:8080/"
    },
    "colab_type": "code",
    "id": "EqlBTy7m9tbl",
    "outputId": "bf3f7282-8107-41af-da09-16e62a229758"
   },
   "outputs": [
    {
     "name": "stdout",
     "output_type": "stream",
     "text": [
      "(668, 5) (223, 5) (668,) (223,)\n",
      "The metrics for the trained model are as follows: \n",
      "Jaccard Similarity :  0.7354260089686099 \n",
      "Accuracy Score     :  0.7354260089686099 \n",
      "F1 Score           :  0.7333409684471908\n"
     ]
    }
   ],
   "source": [
    "X_train, X_test, y_train, y_test = train_test_split(train_df.drop(\"Survived\", axis=1).iloc[:,rfecv.get_support(indices=True)].values,train_df[\"Survived\"].values, random_state=1)\n",
    "print(X_train.shape, X_test.shape, y_train.shape, y_test.shape)\n",
    "\n",
    "\n",
    "ModelDT.fit(X_train,y_train)\n",
    "\n",
    "yhat= ModelDT.predict(X_test)\n",
    "\n",
    "#printing the accuracy\n",
    "print(\"The metrics for the trained model are as follows:\",\"\\n\"\n",
    "      \"Jaccard Similarity : \",jaccard_similarity_score(y_test, yhat), \"\\n\"\n",
    "      \"Accuracy Score     : \",accuracy_score(y_test, yhat),\"\\n\"\n",
    "      \"F1 Score           : \",f1_score(y_test, yhat, average=\"weighted\"))\n",
    "\n",
    "rfe_2_acc = accuracy_score(y_test, yhat)\n",
    "rfe_2_features =train_df.drop(\"Survived\", axis=1).iloc[:,rfecv.get_support(indices=True)].columns.values\n"
   ]
  },
  {
   "cell_type": "code",
   "execution_count": null,
   "metadata": {
    "colab": {
     "base_uri": "https://localhost:8080/"
    },
    "colab_type": "code",
    "id": "hSycAjQ7rWs1",
    "outputId": "0f40dcb0-4fbf-4591-ab6a-d52d129ec561"
   },
   "outputs": [
    {
     "data": {
      "text/plain": [
       "array(['PassengerId', 'Pclass', 'Age', 'Fare', 'Title'], dtype=object)"
      ]
     },
     "execution_count": 226,
     "metadata": {
      "tags": []
     },
     "output_type": "execute_result"
    }
   ],
   "source": [
    "rfe_2_features"
   ]
  },
  {
   "cell_type": "markdown",
   "metadata": {
    "colab_type": "text",
    "id": "dQwLsbdsrk8W"
   },
   "source": [
    "## Using RFE with min_features_to_select = 1"
   ]
  },
  {
   "cell_type": "code",
   "execution_count": null,
   "metadata": {
    "colab": {
     "base_uri": "https://localhost:8080/"
    },
    "colab_type": "code",
    "id": "xHuoqvK7rk8Y",
    "outputId": "fdcc7d45-6ec0-4ce6-930c-0d53eef85678"
   },
   "outputs": [
    {
     "name": "stdout",
     "output_type": "stream",
     "text": [
      "Optimal number of features : 5\n"
     ]
    },
    {
     "data": {
      "image/png": "[encoded data removed]",
      "text/plain": [
       "<Figure size 432x288 with 1 Axes>"
      ]
     },
     "metadata": {
      "tags": []
     },
     "output_type": "display_data"
    }
   ],
   "source": [
    "from sklearn.model_selection import StratifiedKFold\n",
    "from sklearn.feature_selection import RFECV\n",
    "\n",
    "ModelDT = DecisionTreeClassifier()\n",
    "# The \"accuracy\" scoring is proportional to the number of correct\n",
    "# classifications\n",
    "rfecv = RFECV(estimator=ModelDT, step=1, cv=StratifiedKFold(2),\n",
    "              min_features_to_select = 1,\n",
    "              scoring='accuracy')\n",
    "X = train_df.drop(\"Survived\", axis=1).values\n",
    "y = train_df[\"Survived\"].values\n",
    "rfecv.fit(X, y)\n",
    "\n",
    "print(\"Optimal number of features : %d\" % rfecv.n_features_)\n",
    "\n",
    "# Plot number of features VS. cross-validation scores\n",
    "plt.figure()\n",
    "plt.xlabel(\"Number of features selected\")\n",
    "plt.ylabel(\"Cross validation score (nb of correct classifications)\")\n",
    "plt.plot(range(1, len(rfecv.grid_scores_) + 1), rfecv.grid_scores_)\n",
    "plt.show()"
   ]
  },
  {
   "cell_type": "code",
   "execution_count": null,
   "metadata": {
    "colab": {
     "base_uri": "https://localhost:8080/"
    },
    "colab_type": "code",
    "id": "ecfe_JKqrk8b",
    "outputId": "bae0d72b-8edd-4fb8-9c6f-6039d891c3b2"
   },
   "outputs": [
    {
     "data": {
      "text/plain": [
       "array([0, 1, 3, 6, 9])"
      ]
     },
     "execution_count": 228,
     "metadata": {
      "tags": []
     },
     "output_type": "execute_result"
    }
   ],
   "source": [
    "rfecv.get_support(indices=True)"
   ]
  },
  {
   "cell_type": "code",
   "execution_count": null,
   "metadata": {
    "colab": {
     "base_uri": "https://localhost:8080/"
    },
    "colab_type": "code",
    "id": "U_kGZJ7hrk8d",
    "outputId": "c5b0fe6c-8268-47d7-d175-049ec9ed3184"
   },
   "outputs": [
    {
     "data": {
      "text/plain": [
       "5"
      ]
     },
     "execution_count": 229,
     "metadata": {
      "tags": []
     },
     "output_type": "execute_result"
    }
   ],
   "source": [
    "rfecv.n_features_ ## The number of features selected"
   ]
  },
  {
   "cell_type": "code",
   "execution_count": null,
   "metadata": {
    "colab": {
     "base_uri": "https://localhost:8080/"
    },
    "colab_type": "code",
    "id": "XImfT264rk8g",
    "outputId": "e587943c-3a82-4d9b-86ba-4a5f132e9aba"
   },
   "outputs": [
    {
     "name": "stdout",
     "output_type": "stream",
     "text": [
      "(668, 5) (223, 5) (668,) (223,)\n",
      "The metrics for the trained model are as follows: \n",
      "Jaccard Similarity :  0.7399103139013453 \n",
      "Accuracy Score     :  0.7399103139013453 \n",
      "F1 Score           :  0.7375745042726398\n"
     ]
    }
   ],
   "source": [
    "X_train, X_test, y_train, y_test = train_test_split(train_df.drop(\"Survived\", axis=1).iloc[:,rfecv.get_support(indices=True)].values,train_df[\"Survived\"].values, random_state=1)\n",
    "print(X_train.shape, X_test.shape, y_train.shape, y_test.shape)\n",
    "\n",
    "\n",
    "ModelDT.fit(X_train,y_train)\n",
    "\n",
    "yhat= ModelDT.predict(X_test)\n",
    "\n",
    "#printing the accuracy\n",
    "print(\"The metrics for the trained model are as follows:\",\"\\n\"\n",
    "      \"Jaccard Similarity : \",jaccard_similarity_score(y_test, yhat), \"\\n\"\n",
    "      \"Accuracy Score     : \",accuracy_score(y_test, yhat),\"\\n\"\n",
    "      \"F1 Score           : \",f1_score(y_test, yhat, average=\"weighted\"))\n",
    "\n",
    "rfe_1_acc = accuracy_score(y_test, yhat)\n",
    "rfe_1_features =train_df.drop(\"Survived\", axis=1).iloc[:,rfecv.get_support(indices=True)].columns.values\n"
   ]
  },
  {
   "cell_type": "code",
   "execution_count": null,
   "metadata": {
    "colab": {
     "base_uri": "https://localhost:8080/"
    },
    "colab_type": "code",
    "id": "f5NTv0eSrqM3",
    "outputId": "719a355d-7125-4f46-93d8-22bfe7828957"
   },
   "outputs": [
    {
     "data": {
      "text/plain": [
       "array(['PassengerId', 'Pclass', 'Age', 'Fare', 'Title'], dtype=object)"
      ]
     },
     "execution_count": 231,
     "metadata": {
      "tags": []
     },
     "output_type": "execute_result"
    }
   ],
   "source": [
    "rfe_1_features "
   ]
  },
  {
   "cell_type": "code",
   "execution_count": null,
   "metadata": {
    "colab": {},
    "colab_type": "code",
    "id": "qor2Q3clsKIN"
   },
   "outputs": [],
   "source": []
  },
  {
   "cell_type": "markdown",
   "metadata": {
    "colab_type": "text",
    "id": "C12Bxa06scto"
   },
   "source": [
    "## Using Tree based feature selection along with SelectFromModel"
   ]
  },
  {
   "cell_type": "code",
   "execution_count": null,
   "metadata": {
    "colab": {
     "base_uri": "https://localhost:8080/"
    },
    "colab_type": "code",
    "id": "gLasFTyjazVX",
    "outputId": "a9b283f3-898c-44dc-8581-7dddba4a8ce5"
   },
   "outputs": [
    {
     "name": "stdout",
     "output_type": "stream",
     "text": [
      "(668, 1) (223, 1) (668,) (223,)\n",
      "The metrics for the trained model are as follows: \n",
      "Jaccard Similarity :  0.7847533632286996 \n",
      "Accuracy Score     :  0.7847533632286996 \n",
      "F1 Score           :  0.7817728858087603\n",
      "(668, 2) (223, 2) (668,) (223,)\n",
      "The metrics for the trained model are as follows: \n",
      "Jaccard Similarity :  0.6995515695067265 \n",
      "Accuracy Score     :  0.6995515695067265 \n",
      "F1 Score           :  0.691246082019865\n",
      "(668, 3) (223, 3) (668,) (223,)\n",
      "The metrics for the trained model are as follows: \n",
      "Jaccard Similarity :  0.6860986547085202 \n",
      "Accuracy Score     :  0.6860986547085202 \n",
      "F1 Score           :  0.6799842124453734\n",
      "(668, 4) (223, 4) (668,) (223,)\n",
      "The metrics for the trained model are as follows: \n",
      "Jaccard Similarity :  0.726457399103139 \n",
      "Accuracy Score     :  0.726457399103139 \n",
      "F1 Score           :  0.7207102414277302\n",
      "(668, 5) (223, 5) (668,) (223,)\n",
      "The metrics for the trained model are as follows: \n",
      "Jaccard Similarity :  0.726457399103139 \n",
      "Accuracy Score     :  0.726457399103139 \n",
      "F1 Score           :  0.7168508823034487\n"
     ]
    },
    {
     "data": {
      "text/plain": [
       "[<matplotlib.lines.Line2D at 0x7f4b4da56a58>]"
      ]
     },
     "execution_count": 232,
     "metadata": {
      "tags": []
     },
     "output_type": "execute_result"
    },
    {
     "data": {
      "image/png": "[encoded data removed]",
      "text/plain": [
       "<Figure size 432x288 with 1 Axes>"
      ]
     },
     "metadata": {
      "tags": []
     },
     "output_type": "display_data"
    }
   ],
   "source": [
    "from sklearn.ensemble import ExtraTreesClassifier\n",
    "from sklearn.feature_selection import SelectFromModel\n",
    "\n",
    "X = train_df.drop(\"Survived\", axis=1).values\n",
    "y = train_df[\"Survived\"].values\n",
    "\n",
    "clf = ExtraTreesClassifier(n_estimators=150)\n",
    "clf = clf.fit(X, y)\n",
    "\n",
    "# clf.feature_importances_ \n",
    "\n",
    "n_feat= []\n",
    "acc = []\n",
    "\n",
    "for i in range(1, 6):\n",
    "  selector = SelectFromModel(clf, prefit=True, max_features=i)\n",
    "  selector.get_support(indices=True)       \n",
    "  X = train_df.drop(\"Survived\", axis=1).iloc[:,selector.get_support(indices=True)].values\n",
    "  y = train_df[\"Survived\"].values\n",
    "  X_train, X_test, y_train, y_test = train_test_split(X,y, random_state=1)\n",
    "  print(X_train.shape, X_test.shape, y_train.shape, y_test.shape)\n",
    "\n",
    "  from sklearn.tree import DecisionTreeClassifier\n",
    "\n",
    "  # ModelDT = DecisionTreeClassifier(criterion='entropy')\n",
    "  ModelDT = ExtraTreesClassifier()\n",
    "  ModelDT.fit(X_train,y_train)\n",
    "\n",
    "  yhat= ModelDT.predict(X_test)\n",
    "\n",
    "  #printing the accuracy\n",
    "  print(\"The metrics for the trained model are as follows:\",\"\\n\"\n",
    "        \"Jaccard Similarity : \",jaccard_similarity_score(y_test, yhat), \"\\n\"\n",
    "        \"Accuracy Score     : \",accuracy_score(y_test, yhat),\"\\n\"\n",
    "        \"F1 Score           : \",f1_score(y_test, yhat, average=\"weighted\"))\n",
    "\n",
    "  tree_acc = accuracy_score(y_test, yhat)\n",
    "  tree_features = train_df.drop(\"Survived\", axis=1).iloc[:,selector.get_support(indices=True)].columns.values\n",
    "  acc.append(tree_acc)\n",
    "  n_feat.append(i)\n",
    "\n",
    "plt.plot(n_feat, acc)"
   ]
  },
  {
   "cell_type": "code",
   "execution_count": null,
   "metadata": {
    "colab": {
     "base_uri": "https://localhost:8080/"
    },
    "colab_type": "code",
    "id": "gr8gtuS6dizh",
    "outputId": "80dadfec-4d36-47fa-b368-8b0c7005bfad"
   },
   "outputs": [
    {
     "name": "stdout",
     "output_type": "stream",
     "text": [
      "1\n"
     ]
    }
   ],
   "source": [
    "optimum_max_feat = n_feat[acc.index(max(acc))]\n",
    "print(optimum_max_feat)"
   ]
  },
  {
   "cell_type": "code",
   "execution_count": null,
   "metadata": {
    "colab": {
     "base_uri": "https://localhost:8080/"
    },
    "colab_type": "code",
    "id": "ShlLVzh-dizl",
    "outputId": "af207c40-0157-4865-e092-cce8e8222d7f"
   },
   "outputs": [
    {
     "name": "stdout",
     "output_type": "stream",
     "text": [
      "(668, 1) (223, 1) (668,) (223,)\n",
      "The metrics for the trained model are as follows: \n",
      "Jaccard Similarity :  0.7847533632286996 \n",
      "Accuracy Score     :  0.7847533632286996 \n",
      "F1 Score           :  0.7817728858087603\n"
     ]
    }
   ],
   "source": [
    "selector = SelectFromModel(clf, prefit=True, max_features=optimum_max_feat)\n",
    "selector.get_support(indices=True)       \n",
    "X = train_df.drop(\"Survived\", axis=1).iloc[:,selector.get_support(indices=True)].values\n",
    "y = train_df[\"Survived\"].values\n",
    "X_train, X_test, y_train, y_test = train_test_split(X,y, random_state=1)\n",
    "print(X_train.shape, X_test.shape, y_train.shape, y_test.shape)\n",
    "\n",
    "from sklearn.tree import DecisionTreeClassifier\n",
    "\n",
    "# ModelDT = DecisionTreeClassifier(criterion='entropy')\n",
    "ModelDT = ExtraTreesClassifier()\n",
    "ModelDT.fit(X_train,y_train)\n",
    "\n",
    "yhat= ModelDT.predict(X_test)\n",
    "\n",
    "#printing the accuracy\n",
    "print(\"The metrics for the trained model are as follows:\",\"\\n\"\n",
    "      \"Jaccard Similarity : \",jaccard_similarity_score(y_test, yhat), \"\\n\"\n",
    "      \"Accuracy Score     : \",accuracy_score(y_test, yhat),\"\\n\"\n",
    "      \"F1 Score           : \",f1_score(y_test, yhat, average=\"weighted\"))\n",
    "\n",
    "tree_acc = accuracy_score(y_test, yhat)\n",
    "tree_features = train_df.drop(\"Survived\", axis=1).iloc[:,selector.get_support(indices=True)].columns.values"
   ]
  },
  {
   "cell_type": "code",
   "execution_count": null,
   "metadata": {
    "colab": {
     "base_uri": "https://localhost:8080/"
    },
    "colab_type": "code",
    "id": "sZa9LtRsuDhG",
    "outputId": "7fbfce9d-0946-44d6-dc7b-e1a7fb8a01fd"
   },
   "outputs": [
    {
     "data": {
      "text/plain": [
       "array(['Sex'], dtype=object)"
      ]
     },
     "execution_count": 235,
     "metadata": {
      "tags": []
     },
     "output_type": "execute_result"
    }
   ],
   "source": [
    "tree_features"
   ]
  },
  {
   "cell_type": "markdown",
   "metadata": {
    "colab_type": "text",
    "id": "RcSX1lNvtymM"
   },
   "source": [
    "# Comparison of Number of Features and Accuracy of all the above technique used"
   ]
  },
  {
   "cell_type": "code",
   "execution_count": null,
   "metadata": {
    "colab": {},
    "colab_type": "code",
    "id": "ixcOC1TOt6Xb"
   },
   "outputs": [],
   "source": [
    "technique = [\"LassoCV\", \"Correlation\", \"mutual_info\", \"f_classif\", \"chi2\", \"rfe_2_acc\", \"rfe_1_acc\", \"Tree Based\" ]\n",
    "technique.reverse() \n",
    "\n",
    "features = [tree_features,rfe_1_features,rfe_2_features,chi2_features,f_classif_features,\n",
    "            mutual_info_features,corr_features,lassoCV_features]\n",
    "\n",
    "accuracy = [tree_acc,rfe_1_acc,rfe_2_acc,chi2_acc,f_classif_acc,mutual_info_acc,corr_acc,lassoCV_acc]\n",
    "\n",
    "features_count=[len(i) for i in features]\n",
    "\n",
    "df_comparison = pd.DataFrame({\"Technique\": technique,\n",
    "                              \"Accuracy\": accuracy,\n",
    "                              \"Feature Count\": features_count, \n",
    "                              \"Features\": [\",\".join(i) for i in features]\n",
    "                              })\n",
    "\n",
    "lassoCV_des = 'A regression model that uses L1 regularization technique is called Lasso Regression.'+\\\n",
    "              ' Lasso Regression (Least Absolute Shrinkage and Selection Operator) adds “absolute value of'+\\\n",
    "              ' magnitude” of coefficient as penalty term to the loss function.'+\\\n",
    "              ' Lasso shrinks the less important feature’s coefficient to zero thus, removing some feature altogether.'+\\\n",
    "              ' So, this works well for feature selection in case we have a huge number of features.'\n",
    "rfe_des = 'Given an external estimator that assigns weights to features (e.g., the coefficients of a linear model), '+\\\n",
    "          'recursive feature elimination (RFE) is to select features by recursively considering smaller and smaller sets of features.'+\\\n",
    "          ' First, the estimator is trained on the initial set of features and the importance of each feature is obtained '+\\\n",
    "          'either through a coef_ attribute or through a feature_importances_ attribute. Then, the least important features'+\\\n",
    "          ' are pruned from current set of features.That procedure is recursively repeated on the pruned '+\\\n",
    "          'set until the desired number of features to select is eventually reached.'\n",
    "chi2_des = 'Mathematically, a Chi-Square test is done on two distributions to determine the level of similarity'+\\\n",
    "          ' of their respective variances. In its null hypothesis, it assumes that the given distributions are independent.'+\\\n",
    "          ' This test thus can be used to determine the best features for a given dataset by determining the '+\\\n",
    "          'features on which the output class label is most dependent on. For each feature in the dataset, the chi2 '+\\\n",
    "          'is calculated and then ordered in descending order according to the chi2 value. '+\\\n",
    "          'The higher the value of chi2, the more dependent the output label is on the feature and higher the '+\\\n",
    "          'importance the feature has on determining the output.'\n",
    "f_classif_des= 'Computes the ANOVA F-value for the provided sample.'\n",
    "mutual_info_des = 'In probability theory and information theory, the mutual information (MI) of two random variables is a measure of the mutual dependence between the two variables. More specifically, it quantifies the \"amount of information\" obtained about one random variable through observing the other random variable.'\n",
    "corr_des = 'Here pearson\\'s correlation coefficient is used. It is the  Dependence or association is any statistical relationship, whether causal or not, between two random variables or bivariate data. In the broadest sense correlation is any statistical association, though it commonly refers to the degree to which a pair of variables are linearly related.'+\\\n",
    "          'It is a measure of the linear correlation between two variables X and Y. It has a value between +1 and −1, where 1 is total positive linear correlation, 0 is no linear correlation, and −1 is total negative linear correlation. '\n",
    "tree_des = 'Using tree based ML algos to get the feature importances and then selecting the feaures that are having significant importance.'\n",
    "\n",
    "description = [tree_des,rfe_des, rfe_des, chi2_des, f_classif_des, mutual_info_des, corr_des, lassoCV_des]\n",
    "methods_used = [\"SelectFromModel\", \"RFECV with min_features_to_select = 1\", \"RFECV with min_features_to_select = 2\" , \"SelectKBest with chi2\", \"SelectKBest with f_classif\", \n",
    "                       \"SelectKBest with mutual_info_classif\", \"DataFrame.corr\", \"LassoCV\"]"
   ]
  },
  {
   "cell_type": "code",
   "execution_count": null,
   "metadata": {
    "colab": {
     "base_uri": "https://localhost:8080/",
     "height": 287
    },
    "colab_type": "code",
    "id": "BUSoAIdWzwOE",
    "outputId": "3493fa74-577a-40cf-be31-e2f0c9f70106"
   },
   "outputs": [
    {
     "data": {
      "text/html": [
       "<div>\n",
       "<style scoped>\n",
       "    .dataframe tbody tr th:only-of-type {\n",
       "        vertical-align: middle;\n",
       "    }\n",
       "\n",
       "    .dataframe tbody tr th {\n",
       "        vertical-align: top;\n",
       "    }\n",
       "\n",
       "    .dataframe thead th {\n",
       "        text-align: right;\n",
       "    }\n",
       "</style>\n",
       "<table border=\"1\" class=\"dataframe\">\n",
       "  <thead>\n",
       "    <tr style=\"text-align: right;\">\n",
       "      <th></th>\n",
       "      <th>Technique</th>\n",
       "      <th>Accuracy</th>\n",
       "      <th>Feature Count</th>\n",
       "      <th>Features</th>\n",
       "      <th>methods_used</th>\n",
       "      <th>Description</th>\n",
       "    </tr>\n",
       "  </thead>\n",
       "  <tbody>\n",
       "    <tr>\n",
       "      <th>1</th>\n",
       "      <td>Tree Based</td>\n",
       "      <td>0.784753</td>\n",
       "      <td>1</td>\n",
       "      <td>Sex</td>\n",
       "      <td>SelectFromModel</td>\n",
       "      <td>Using tree based ML algos to get the feature i...</td>\n",
       "    </tr>\n",
       "    <tr>\n",
       "      <th>2</th>\n",
       "      <td>rfe_1_acc</td>\n",
       "      <td>0.739910</td>\n",
       "      <td>5</td>\n",
       "      <td>PassengerId,Pclass,Age,Fare,Title</td>\n",
       "      <td>RFECV with min_features_to_select = 1</td>\n",
       "      <td>Given an external estimator that assigns weigh...</td>\n",
       "    </tr>\n",
       "    <tr>\n",
       "      <th>3</th>\n",
       "      <td>rfe_2_acc</td>\n",
       "      <td>0.735426</td>\n",
       "      <td>5</td>\n",
       "      <td>PassengerId,Pclass,Age,Fare,Title</td>\n",
       "      <td>RFECV with min_features_to_select = 2</td>\n",
       "      <td>Given an external estimator that assigns weigh...</td>\n",
       "    </tr>\n",
       "    <tr>\n",
       "      <th>4</th>\n",
       "      <td>chi2</td>\n",
       "      <td>0.807175</td>\n",
       "      <td>5</td>\n",
       "      <td>Pclass,Sex,Fare,Deck,Title</td>\n",
       "      <td>SelectKBest with chi2</td>\n",
       "      <td>Mathematically, a Chi-Square test is done on t...</td>\n",
       "    </tr>\n",
       "    <tr>\n",
       "      <th>5</th>\n",
       "      <td>f_classif</td>\n",
       "      <td>0.811659</td>\n",
       "      <td>5</td>\n",
       "      <td>Pclass,Sex,Fare,Deck,Title</td>\n",
       "      <td>SelectKBest with f_classif</td>\n",
       "      <td>Computes the ANOVA F-value for the provided sa...</td>\n",
       "    </tr>\n",
       "    <tr>\n",
       "      <th>6</th>\n",
       "      <td>mutual_info</td>\n",
       "      <td>0.825112</td>\n",
       "      <td>4</td>\n",
       "      <td>Pclass,Sex,Fare,Title</td>\n",
       "      <td>SelectKBest with mutual_info_classif</td>\n",
       "      <td>In probability theory and information theory, ...</td>\n",
       "    </tr>\n",
       "    <tr>\n",
       "      <th>7</th>\n",
       "      <td>Correlation</td>\n",
       "      <td>0.825112</td>\n",
       "      <td>5</td>\n",
       "      <td>Pclass,Sex,Fare,Deck,Title</td>\n",
       "      <td>DataFrame.corr</td>\n",
       "      <td>Here pearson's correlation coefficient is used...</td>\n",
       "    </tr>\n",
       "    <tr>\n",
       "      <th>8</th>\n",
       "      <td>LassoCV</td>\n",
       "      <td>0.822222</td>\n",
       "      <td>4</td>\n",
       "      <td>Pclass,Sex,SibSp,Title</td>\n",
       "      <td>LassoCV</td>\n",
       "      <td>A regression model that uses L1 regularization...</td>\n",
       "    </tr>\n",
       "  </tbody>\n",
       "</table>\n",
       "</div>"
      ],
      "text/plain": [
       "     Technique  ...                                        Description\n",
       "1   Tree Based  ...  Using tree based ML algos to get the feature i...\n",
       "2    rfe_1_acc  ...  Given an external estimator that assigns weigh...\n",
       "3    rfe_2_acc  ...  Given an external estimator that assigns weigh...\n",
       "4         chi2  ...  Mathematically, a Chi-Square test is done on t...\n",
       "5    f_classif  ...  Computes the ANOVA F-value for the provided sa...\n",
       "6  mutual_info  ...  In probability theory and information theory, ...\n",
       "7  Correlation  ...  Here pearson's correlation coefficient is used...\n",
       "8      LassoCV  ...  A regression model that uses L1 regularization...\n",
       "\n",
       "[8 rows x 6 columns]"
      ]
     },
     "execution_count": 237,
     "metadata": {
      "tags": []
     },
     "output_type": "execute_result"
    }
   ],
   "source": [
    "df_comparison.index+=1\n",
    "df_comparison[\"methods_used\"] = methods_used\n",
    "df_comparison[\"Description\"] = description\n",
    "df_comparison"
   ]
  },
  {
   "cell_type": "code",
   "execution_count": null,
   "metadata": {
    "colab": {
     "base_uri": "https://localhost:8080/",
     "height": 250
    },
    "colab_type": "code",
    "id": "86aSOUsU9IfQ",
    "outputId": "02b34f26-725c-419d-d5a5-a2309d1cdaff"
   },
   "outputs": [
    {
     "name": "stdout",
     "output_type": "stream",
     "text": [
      "+----+-------------+------------+-----------------+-----------------------------------+---------------------------------------+------------------------------------------------------------------------------------------------------------------------------------------------------------------------------------------------------------------------------------------------------------------------------------------------------------------------------------------------------------------------------------------------------------------------------------------------------------------------------------------------------------------------------------------------------------------------------------------------------------------------------------------------------------------------+\n",
      "|    | Technique   |   Accuracy |   Feature Count | Features                          | methods_used                          | Description                                                                                                                                                                                                                                                                                                                                                                                                                                                                                                                                                                                                                                                            |\n",
      "|----+-------------+------------+-----------------+-----------------------------------+---------------------------------------+------------------------------------------------------------------------------------------------------------------------------------------------------------------------------------------------------------------------------------------------------------------------------------------------------------------------------------------------------------------------------------------------------------------------------------------------------------------------------------------------------------------------------------------------------------------------------------------------------------------------------------------------------------------------|\n",
      "|  1 | Tree Based  |   0.784753 |               1 | Sex                               | SelectFromModel                       | Using tree based ML algos to get the feature importances and then selecting the feaures that are having significant importance.                                                                                                                                                                                                                                                                                                                                                                                                                                                                                                                                        |\n",
      "|  2 | rfe_1_acc   |   0.73991  |               5 | PassengerId,Pclass,Age,Fare,Title | RFECV with min_features_to_select = 1 | Given an external estimator that assigns weights to features (e.g., the coefficients of a linear model), recursive feature elimination (RFE) is to select features by recursively considering smaller and smaller sets of features. First, the estimator is trained on the initial set of features and the importance of each feature is obtained either through a coef_ attribute or through a feature_importances_ attribute. Then, the least important features are pruned from current set of features.That procedure is recursively repeated on the pruned set until the desired number of features to select is eventually reached.                              |\n",
      "|  3 | rfe_2_acc   |   0.735426 |               5 | PassengerId,Pclass,Age,Fare,Title | RFECV with min_features_to_select = 2 | Given an external estimator that assigns weights to features (e.g., the coefficients of a linear model), recursive feature elimination (RFE) is to select features by recursively considering smaller and smaller sets of features. First, the estimator is trained on the initial set of features and the importance of each feature is obtained either through a coef_ attribute or through a feature_importances_ attribute. Then, the least important features are pruned from current set of features.That procedure is recursively repeated on the pruned set until the desired number of features to select is eventually reached.                              |\n",
      "|  4 | chi2        |   0.807175 |               5 | Pclass,Sex,Fare,Deck,Title        | SelectKBest with chi2                 | Mathematically, a Chi-Square test is done on two distributions to determine the level of similarity of their respective variances. In its null hypothesis, it assumes that the given distributions are independent. This test thus can be used to determine the best features for a given dataset by determining the features on which the output class label is most dependent on. For each feature in the dataset, the chi2 is calculated and then ordered in descending order according to the chi2 value. The higher the value of chi2, the more dependent the output label is on the feature and higher the importance the feature has on determining the output. |\n",
      "|  5 | f_classif   |   0.811659 |               5 | Pclass,Sex,Fare,Deck,Title        | SelectKBest with f_classif            | Computes the ANOVA F-value for the provided sample.                                                                                                                                                                                                                                                                                                                                                                                                                                                                                                                                                                                                                    |\n",
      "|  6 | mutual_info |   0.825112 |               4 | Pclass,Sex,Fare,Title             | SelectKBest with mutual_info_classif  | In probability theory and information theory, the mutual information (MI) of two random variables is a measure of the mutual dependence between the two variables. More specifically, it quantifies the \"amount of information\" obtained about one random variable through observing the other random variable.                                                                                                                                                                                                                                                                                                                                                        |\n",
      "|  7 | Correlation |   0.825112 |               5 | Pclass,Sex,Fare,Deck,Title        | DataFrame.corr                        | Here pearson's correlation coefficient is used. It is the  Dependence or association is any statistical relationship, whether causal or not, between two random variables or bivariate data. In the broadest sense correlation is any statistical association, though it commonly refers to the degree to which a pair of variables are linearly related.It is a measure of the linear correlation between two variables X and Y. It has a value between +1 and −1, where 1 is total positive linear correlation, 0 is no linear correlation, and −1 is total negative linear correlation.                                                                             |\n",
      "|  8 | LassoCV     |   0.822222 |               4 | Pclass,Sex,SibSp,Title            | LassoCV                               | A regression model that uses L1 regularization technique is called Lasso Regression. Lasso Regression (Least Absolute Shrinkage and Selection Operator) adds “absolute value of magnitude” of coefficient as penalty term to the loss function. Lasso shrinks the less important feature’s coefficient to zero thus, removing some feature altogether. So, this works well for feature selection in case we have a huge number of features.                                                                                                                                                                                                                            |\n",
      "+----+-------------+------------+-----------------+-----------------------------------+---------------------------------------+------------------------------------------------------------------------------------------------------------------------------------------------------------------------------------------------------------------------------------------------------------------------------------------------------------------------------------------------------------------------------------------------------------------------------------------------------------------------------------------------------------------------------------------------------------------------------------------------------------------------------------------------------------------------+\n"
     ]
    }
   ],
   "source": [
    "from tabulate import tabulate\n",
    "print(tabulate(df_comparison, headers='keys', tablefmt='psql')) "
   ]
  },
  {
   "cell_type": "markdown",
   "metadata": {
    "colab_type": "text",
    "id": "5OSYcgWcCzGf"
   },
   "source": [
    "The above values can be used to select best the feature selection technique as per the requirements.\n",
    "LassoCV seems to be a better technique on this dataset as it gives relevant features."
   ]
  },
  {
   "cell_type": "code",
   "execution_count": null,
   "metadata": {
    "colab": {
     "base_uri": "https://localhost:8080/",
     "height": 350
    },
    "colab_type": "code",
    "id": "ml9l-U1gu3AL",
    "outputId": "d6d76146-8556-406d-881c-ad667dbd7d89"
   },
   "outputs": [
    {
     "data": {
      "text/plain": [
       "<matplotlib.axes._subplots.AxesSubplot at 0x7f4b4dacbbe0>"
      ]
     },
     "execution_count": 239,
     "metadata": {
      "tags": []
     },
     "output_type": "execute_result"
    },
    {
     "data": {
      "image/png": "[encoded data removed]",
      "text/plain": [
       "<Figure size 432x288 with 1 Axes>"
      ]
     },
     "metadata": {
      "tags": []
     },
     "output_type": "display_data"
    }
   ],
   "source": [
    "df_comparison.plot.bar(\"Technique\", \"Feature Count\")"
   ]
  },
  {
   "cell_type": "markdown",
   "metadata": {
    "colab_type": "text",
    "id": "uMVRyaBh7VD2"
   },
   "source": [
    "# Visualization on data"
   ]
  },
  {
   "cell_type": "code",
   "execution_count": null,
   "metadata": {
    "colab": {},
    "colab_type": "code",
    "id": "7tN_UTC17YVm"
   },
   "outputs": [],
   "source": [
    "import seaborn as sns"
   ]
  },
  {
   "cell_type": "code",
   "execution_count": null,
   "metadata": {
    "colab": {
     "base_uri": "https://localhost:8080/",
     "height": 242
    },
    "colab_type": "code",
    "id": "SPrewJHv8YFU",
    "outputId": "99e84066-7c89-4b1d-e64a-90c1b0767eee"
   },
   "outputs": [
    {
     "data": {
      "text/plain": [
       "<seaborn.axisgrid.FacetGrid at 0x7f4b4e2524a8>"
      ]
     },
     "execution_count": 241,
     "metadata": {
      "tags": []
     },
     "output_type": "execute_result"
    },
    {
     "data": {
      "image/png": "[encoded data removed]",
      "text/plain": [
       "<Figure size 432x216 with 2 Axes>"
      ]
     },
     "metadata": {
      "tags": []
     },
     "output_type": "display_data"
    }
   ],
   "source": [
    "g = sns.FacetGrid(train_df, col=\"Survived\")\n",
    "g.map(sns.countplot, \"Pclass\" )"
   ]
  },
  {
   "cell_type": "code",
   "execution_count": null,
   "metadata": {
    "colab": {
     "base_uri": "https://localhost:8080/",
     "height": 242
    },
    "colab_type": "code",
    "id": "8JMCTi6N860n",
    "outputId": "44dc12b6-03dc-4b75-d986-a6b7159d44c1"
   },
   "outputs": [
    {
     "data": {
      "text/plain": [
       "<seaborn.axisgrid.FacetGrid at 0x7f4b4d868b00>"
      ]
     },
     "execution_count": 242,
     "metadata": {
      "tags": []
     },
     "output_type": "execute_result"
    },
    {
     "data": {
      "image/png": "[encoded data removed]",
      "text/plain": [
       "<Figure size 432x216 with 2 Axes>"
      ]
     },
     "metadata": {
      "tags": []
     },
     "output_type": "display_data"
    }
   ],
   "source": [
    "g = sns.FacetGrid(train_df, col=\"Survived\")\n",
    "g.map(sns.countplot, \"Sex\" )\n",
    "# SEX=>{0: male, 1: Female }"
   ]
  },
  {
   "cell_type": "code",
   "execution_count": null,
   "metadata": {
    "colab": {
     "base_uri": "https://localhost:8080/",
     "height": 242
    },
    "colab_type": "code",
    "id": "yZPJApDtAs12",
    "outputId": "a14143e0-a487-4f94-c227-ccc012e2353d"
   },
   "outputs": [
    {
     "data": {
      "text/plain": [
       "<seaborn.axisgrid.FacetGrid at 0x7f4b4d868438>"
      ]
     },
     "execution_count": 243,
     "metadata": {
      "tags": []
     },
     "output_type": "execute_result"
    },
    {
     "data": {
      "image/png": "[encoded data removed]",
      "text/plain": [
       "<Figure size 432x216 with 2 Axes>"
      ]
     },
     "metadata": {
      "tags": []
     },
     "output_type": "display_data"
    }
   ],
   "source": [
    "g = sns.FacetGrid(train_df, col=\"Survived\")\n",
    "g.map(plt.hist, \"Age\", bins=10 )"
   ]
  },
  {
   "cell_type": "code",
   "execution_count": null,
   "metadata": {
    "colab": {},
    "colab_type": "code",
    "id": "uo3LwChkA9wQ"
   },
   "outputs": [],
   "source": []
  },
  {
   "cell_type": "code",
   "execution_count": null,
   "metadata": {
    "colab": {},
    "colab_type": "code",
    "id": "exAJq57gHkTg"
   },
   "outputs": [],
   "source": []
  }
 ],
 "metadata": {
  "colab": {
   "collapsed_sections": [
    "JMKcIRqRCks_",
    "rlsvlYjAChVQ",
    "XSwneZl6FB6t",
    "X7dPJQrpfzlr",
    "mIfnqrZStAvD",
    "_s5joahhqWiL",
    "Zddl1Ivh1GNi",
    "dQwLsbdsrk8W",
    "C12Bxa06scto"
   ],
   "name": "Feature Selection Techniques Analysis.ipynb",
   "provenance": []
  },
  "kernelspec": {
   "display_name": "Python 3",
   "language": "python",
   "name": "python3"
  },
  "language_info": {
   "codemirror_mode": {
    "name": "ipython",
    "version": 3
   },
   "file_extension": ".py",
   "mimetype": "text/x-python",
   "name": "python",
   "nbconvert_exporter": "python",
   "pygments_lexer": "ipython3",
   "version": "3.7.3"
  }
 },
 "nbformat": 4,
 "nbformat_minor": 1
}
